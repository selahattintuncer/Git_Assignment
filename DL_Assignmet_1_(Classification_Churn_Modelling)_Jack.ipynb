{
 "cells": [
  {
   "cell_type": "markdown",
   "metadata": {
    "id": "iQtLnnNUO3pH"
   },
   "source": [
    "# Churn Prediction For Bank Customer"
   ]
  },
  {
   "cell_type": "markdown",
   "metadata": {
    "id": "UP1Q_0L-O3pQ"
   },
   "source": [
    "We have a dataset in which there are details of a bank's customers and the target variable is a binary variable reflecting the fact whether the customer left the bank (closed his account) or he continues to be a customer."
   ]
  },
  {
   "cell_type": "markdown",
   "metadata": {
    "id": "61io8aEUO3pS"
   },
   "source": [
    "## Improt Libraries"
   ]
  },
  {
   "cell_type": "code",
   "execution_count": 3,
   "metadata": {
    "id": "6VAliUlMO3pT"
   },
   "outputs": [],
   "source": [
    "import numpy as np\n",
    "import pandas as pd\n",
    "import seaborn as sns\n",
    "import matplotlib.pyplot as plt\n",
    "\n",
    "%matplotlib inline\n",
    "# %matplotlib notebook\n",
    "plt.rcParams[\"figure.figsize\"] = (12,6)\n",
    "# plt.rcParams['figure.dpi'] = 100\n",
    "sns.set_style(\"whitegrid\")\n",
    "import warnings\n",
    "warnings.filterwarnings(\"ignore\")\n",
    "warnings.warn(\"this will not show\")\n",
    "pd.set_option('display.float_format', lambda x: '%.3f' % x)"
   ]
  },
  {
   "cell_type": "markdown",
   "metadata": {
    "id": "4IawuEmUO3pV"
   },
   "source": [
    "## Indest Data"
   ]
  },
  {
   "cell_type": "code",
   "execution_count": 4,
   "metadata": {
    "id": "VTlA0Ce_O3pV"
   },
   "outputs": [],
   "source": [
    "df = pd.read_csv(\"data/Churn_Modelling.csv\")"
   ]
  },
  {
   "cell_type": "markdown",
   "metadata": {
    "id": "6oK2fOlGO3pW"
   },
   "source": [
    "## Exploratory Data Analysis and Visualization"
   ]
  },
  {
   "cell_type": "markdown",
   "metadata": {
    "id": "bA2fwmPFO3pY"
   },
   "source": [
    "1. Implement basic steps to see how is your data looks like\n",
    "2. Check for missing values\n",
    "3. Drop the features that not suitable for modelling\n",
    "4. Implement basic visualization steps such as histogram, countplot, heatmap\n",
    "5. Convert categorical variables to dummy variables"
   ]
  },
  {
   "cell_type": "code",
   "execution_count": 5,
   "metadata": {
    "id": "ygiyOreRO3pa"
   },
   "outputs": [
    {
     "data": {
      "text/html": [
       "<div>\n",
       "<style scoped>\n",
       "    .dataframe tbody tr th:only-of-type {\n",
       "        vertical-align: middle;\n",
       "    }\n",
       "\n",
       "    .dataframe tbody tr th {\n",
       "        vertical-align: top;\n",
       "    }\n",
       "\n",
       "    .dataframe thead th {\n",
       "        text-align: right;\n",
       "    }\n",
       "</style>\n",
       "<table border=\"1\" class=\"dataframe\">\n",
       "  <thead>\n",
       "    <tr style=\"text-align: right;\">\n",
       "      <th></th>\n",
       "      <th>RowNumber</th>\n",
       "      <th>CustomerId</th>\n",
       "      <th>Surname</th>\n",
       "      <th>CreditScore</th>\n",
       "      <th>Geography</th>\n",
       "      <th>Gender</th>\n",
       "      <th>Age</th>\n",
       "      <th>Tenure</th>\n",
       "      <th>Balance</th>\n",
       "      <th>NumOfProducts</th>\n",
       "      <th>HasCrCard</th>\n",
       "      <th>IsActiveMember</th>\n",
       "      <th>EstimatedSalary</th>\n",
       "      <th>Exited</th>\n",
       "    </tr>\n",
       "  </thead>\n",
       "  <tbody>\n",
       "    <tr>\n",
       "      <th>0</th>\n",
       "      <td>1</td>\n",
       "      <td>15634602</td>\n",
       "      <td>Hargrave</td>\n",
       "      <td>619</td>\n",
       "      <td>France</td>\n",
       "      <td>Female</td>\n",
       "      <td>42</td>\n",
       "      <td>2</td>\n",
       "      <td>0.000</td>\n",
       "      <td>1</td>\n",
       "      <td>1</td>\n",
       "      <td>1</td>\n",
       "      <td>101348.880</td>\n",
       "      <td>1</td>\n",
       "    </tr>\n",
       "    <tr>\n",
       "      <th>1</th>\n",
       "      <td>2</td>\n",
       "      <td>15647311</td>\n",
       "      <td>Hill</td>\n",
       "      <td>608</td>\n",
       "      <td>Spain</td>\n",
       "      <td>Female</td>\n",
       "      <td>41</td>\n",
       "      <td>1</td>\n",
       "      <td>83807.860</td>\n",
       "      <td>1</td>\n",
       "      <td>0</td>\n",
       "      <td>1</td>\n",
       "      <td>112542.580</td>\n",
       "      <td>0</td>\n",
       "    </tr>\n",
       "    <tr>\n",
       "      <th>2</th>\n",
       "      <td>3</td>\n",
       "      <td>15619304</td>\n",
       "      <td>Onio</td>\n",
       "      <td>502</td>\n",
       "      <td>France</td>\n",
       "      <td>Female</td>\n",
       "      <td>42</td>\n",
       "      <td>8</td>\n",
       "      <td>159660.800</td>\n",
       "      <td>3</td>\n",
       "      <td>1</td>\n",
       "      <td>0</td>\n",
       "      <td>113931.570</td>\n",
       "      <td>1</td>\n",
       "    </tr>\n",
       "    <tr>\n",
       "      <th>3</th>\n",
       "      <td>4</td>\n",
       "      <td>15701354</td>\n",
       "      <td>Boni</td>\n",
       "      <td>699</td>\n",
       "      <td>France</td>\n",
       "      <td>Female</td>\n",
       "      <td>39</td>\n",
       "      <td>1</td>\n",
       "      <td>0.000</td>\n",
       "      <td>2</td>\n",
       "      <td>0</td>\n",
       "      <td>0</td>\n",
       "      <td>93826.630</td>\n",
       "      <td>0</td>\n",
       "    </tr>\n",
       "    <tr>\n",
       "      <th>4</th>\n",
       "      <td>5</td>\n",
       "      <td>15737888</td>\n",
       "      <td>Mitchell</td>\n",
       "      <td>850</td>\n",
       "      <td>Spain</td>\n",
       "      <td>Female</td>\n",
       "      <td>43</td>\n",
       "      <td>2</td>\n",
       "      <td>125510.820</td>\n",
       "      <td>1</td>\n",
       "      <td>1</td>\n",
       "      <td>1</td>\n",
       "      <td>79084.100</td>\n",
       "      <td>0</td>\n",
       "    </tr>\n",
       "  </tbody>\n",
       "</table>\n",
       "</div>"
      ],
      "text/plain": [
       "   RowNumber  CustomerId   Surname  CreditScore Geography  Gender  Age  \\\n",
       "0          1    15634602  Hargrave          619    France  Female   42   \n",
       "1          2    15647311      Hill          608     Spain  Female   41   \n",
       "2          3    15619304      Onio          502    France  Female   42   \n",
       "3          4    15701354      Boni          699    France  Female   39   \n",
       "4          5    15737888  Mitchell          850     Spain  Female   43   \n",
       "\n",
       "   Tenure    Balance  NumOfProducts  HasCrCard  IsActiveMember  \\\n",
       "0       2      0.000              1          1               1   \n",
       "1       1  83807.860              1          0               1   \n",
       "2       8 159660.800              3          1               0   \n",
       "3       1      0.000              2          0               0   \n",
       "4       2 125510.820              1          1               1   \n",
       "\n",
       "   EstimatedSalary  Exited  \n",
       "0       101348.880       1  \n",
       "1       112542.580       0  \n",
       "2       113931.570       1  \n",
       "3        93826.630       0  \n",
       "4        79084.100       0  "
      ]
     },
     "execution_count": 5,
     "metadata": {},
     "output_type": "execute_result"
    }
   ],
   "source": [
    "df.head()"
   ]
  },
  {
   "cell_type": "code",
   "execution_count": 6,
   "metadata": {},
   "outputs": [
    {
     "name": "stdout",
     "output_type": "stream",
     "text": [
      "<class 'pandas.core.frame.DataFrame'>\n",
      "RangeIndex: 10000 entries, 0 to 9999\n",
      "Data columns (total 14 columns):\n",
      " #   Column           Non-Null Count  Dtype  \n",
      "---  ------           --------------  -----  \n",
      " 0   RowNumber        10000 non-null  int64  \n",
      " 1   CustomerId       10000 non-null  int64  \n",
      " 2   Surname          10000 non-null  object \n",
      " 3   CreditScore      10000 non-null  int64  \n",
      " 4   Geography        10000 non-null  object \n",
      " 5   Gender           10000 non-null  object \n",
      " 6   Age              10000 non-null  int64  \n",
      " 7   Tenure           10000 non-null  int64  \n",
      " 8   Balance          10000 non-null  float64\n",
      " 9   NumOfProducts    10000 non-null  int64  \n",
      " 10  HasCrCard        10000 non-null  int64  \n",
      " 11  IsActiveMember   10000 non-null  int64  \n",
      " 12  EstimatedSalary  10000 non-null  float64\n",
      " 13  Exited           10000 non-null  int64  \n",
      "dtypes: float64(2), int64(9), object(3)\n",
      "memory usage: 1.1+ MB\n"
     ]
    }
   ],
   "source": [
    "df.info()"
   ]
  },
  {
   "cell_type": "code",
   "execution_count": 7,
   "metadata": {},
   "outputs": [
    {
     "data": {
      "text/plain": [
       "(10000, 14)"
      ]
     },
     "execution_count": 7,
     "metadata": {},
     "output_type": "execute_result"
    }
   ],
   "source": [
    "df.shape"
   ]
  },
  {
   "cell_type": "code",
   "execution_count": 8,
   "metadata": {},
   "outputs": [
    {
     "data": {
      "text/plain": [
       "False"
      ]
     },
     "execution_count": 8,
     "metadata": {},
     "output_type": "execute_result"
    }
   ],
   "source": [
    "df.isna().sum().any()"
   ]
  },
  {
   "cell_type": "code",
   "execution_count": 9,
   "metadata": {},
   "outputs": [],
   "source": [
    "df.drop([\"RowNumber\",\"CustomerId\",\"Surname\"], axis=1, inplace=True)"
   ]
  },
  {
   "cell_type": "code",
   "execution_count": 10,
   "metadata": {},
   "outputs": [
    {
     "data": {
      "text/plain": [
       "(10000, 11)"
      ]
     },
     "execution_count": 10,
     "metadata": {},
     "output_type": "execute_result"
    }
   ],
   "source": [
    "df.shape"
   ]
  },
  {
   "cell_type": "code",
   "execution_count": 11,
   "metadata": {},
   "outputs": [
    {
     "data": {
      "text/html": [
       "<div>\n",
       "<style scoped>\n",
       "    .dataframe tbody tr th:only-of-type {\n",
       "        vertical-align: middle;\n",
       "    }\n",
       "\n",
       "    .dataframe tbody tr th {\n",
       "        vertical-align: top;\n",
       "    }\n",
       "\n",
       "    .dataframe thead th {\n",
       "        text-align: right;\n",
       "    }\n",
       "</style>\n",
       "<table border=\"1\" class=\"dataframe\">\n",
       "  <thead>\n",
       "    <tr style=\"text-align: right;\">\n",
       "      <th></th>\n",
       "      <th>count</th>\n",
       "      <th>mean</th>\n",
       "      <th>std</th>\n",
       "      <th>min</th>\n",
       "      <th>25%</th>\n",
       "      <th>50%</th>\n",
       "      <th>75%</th>\n",
       "      <th>max</th>\n",
       "    </tr>\n",
       "  </thead>\n",
       "  <tbody>\n",
       "    <tr>\n",
       "      <th>CreditScore</th>\n",
       "      <td>10000.000</td>\n",
       "      <td>650.529</td>\n",
       "      <td>96.653</td>\n",
       "      <td>350.000</td>\n",
       "      <td>584.000</td>\n",
       "      <td>652.000</td>\n",
       "      <td>718.000</td>\n",
       "      <td>850.000</td>\n",
       "    </tr>\n",
       "    <tr>\n",
       "      <th>Age</th>\n",
       "      <td>10000.000</td>\n",
       "      <td>38.922</td>\n",
       "      <td>10.488</td>\n",
       "      <td>18.000</td>\n",
       "      <td>32.000</td>\n",
       "      <td>37.000</td>\n",
       "      <td>44.000</td>\n",
       "      <td>92.000</td>\n",
       "    </tr>\n",
       "    <tr>\n",
       "      <th>Tenure</th>\n",
       "      <td>10000.000</td>\n",
       "      <td>5.013</td>\n",
       "      <td>2.892</td>\n",
       "      <td>0.000</td>\n",
       "      <td>3.000</td>\n",
       "      <td>5.000</td>\n",
       "      <td>7.000</td>\n",
       "      <td>10.000</td>\n",
       "    </tr>\n",
       "    <tr>\n",
       "      <th>Balance</th>\n",
       "      <td>10000.000</td>\n",
       "      <td>76485.889</td>\n",
       "      <td>62397.405</td>\n",
       "      <td>0.000</td>\n",
       "      <td>0.000</td>\n",
       "      <td>97198.540</td>\n",
       "      <td>127644.240</td>\n",
       "      <td>250898.090</td>\n",
       "    </tr>\n",
       "    <tr>\n",
       "      <th>NumOfProducts</th>\n",
       "      <td>10000.000</td>\n",
       "      <td>1.530</td>\n",
       "      <td>0.582</td>\n",
       "      <td>1.000</td>\n",
       "      <td>1.000</td>\n",
       "      <td>1.000</td>\n",
       "      <td>2.000</td>\n",
       "      <td>4.000</td>\n",
       "    </tr>\n",
       "    <tr>\n",
       "      <th>HasCrCard</th>\n",
       "      <td>10000.000</td>\n",
       "      <td>0.706</td>\n",
       "      <td>0.456</td>\n",
       "      <td>0.000</td>\n",
       "      <td>0.000</td>\n",
       "      <td>1.000</td>\n",
       "      <td>1.000</td>\n",
       "      <td>1.000</td>\n",
       "    </tr>\n",
       "    <tr>\n",
       "      <th>IsActiveMember</th>\n",
       "      <td>10000.000</td>\n",
       "      <td>0.515</td>\n",
       "      <td>0.500</td>\n",
       "      <td>0.000</td>\n",
       "      <td>0.000</td>\n",
       "      <td>1.000</td>\n",
       "      <td>1.000</td>\n",
       "      <td>1.000</td>\n",
       "    </tr>\n",
       "    <tr>\n",
       "      <th>EstimatedSalary</th>\n",
       "      <td>10000.000</td>\n",
       "      <td>100090.240</td>\n",
       "      <td>57510.493</td>\n",
       "      <td>11.580</td>\n",
       "      <td>51002.110</td>\n",
       "      <td>100193.915</td>\n",
       "      <td>149388.247</td>\n",
       "      <td>199992.480</td>\n",
       "    </tr>\n",
       "    <tr>\n",
       "      <th>Exited</th>\n",
       "      <td>10000.000</td>\n",
       "      <td>0.204</td>\n",
       "      <td>0.403</td>\n",
       "      <td>0.000</td>\n",
       "      <td>0.000</td>\n",
       "      <td>0.000</td>\n",
       "      <td>0.000</td>\n",
       "      <td>1.000</td>\n",
       "    </tr>\n",
       "  </tbody>\n",
       "</table>\n",
       "</div>"
      ],
      "text/plain": [
       "                    count       mean       std     min       25%        50%  \\\n",
       "CreditScore     10000.000    650.529    96.653 350.000   584.000    652.000   \n",
       "Age             10000.000     38.922    10.488  18.000    32.000     37.000   \n",
       "Tenure          10000.000      5.013     2.892   0.000     3.000      5.000   \n",
       "Balance         10000.000  76485.889 62397.405   0.000     0.000  97198.540   \n",
       "NumOfProducts   10000.000      1.530     0.582   1.000     1.000      1.000   \n",
       "HasCrCard       10000.000      0.706     0.456   0.000     0.000      1.000   \n",
       "IsActiveMember  10000.000      0.515     0.500   0.000     0.000      1.000   \n",
       "EstimatedSalary 10000.000 100090.240 57510.493  11.580 51002.110 100193.915   \n",
       "Exited          10000.000      0.204     0.403   0.000     0.000      0.000   \n",
       "\n",
       "                       75%        max  \n",
       "CreditScore        718.000    850.000  \n",
       "Age                 44.000     92.000  \n",
       "Tenure               7.000     10.000  \n",
       "Balance         127644.240 250898.090  \n",
       "NumOfProducts        2.000      4.000  \n",
       "HasCrCard            1.000      1.000  \n",
       "IsActiveMember       1.000      1.000  \n",
       "EstimatedSalary 149388.247 199992.480  \n",
       "Exited               0.000      1.000  "
      ]
     },
     "execution_count": 11,
     "metadata": {},
     "output_type": "execute_result"
    }
   ],
   "source": [
    "df.describe().T"
   ]
  },
  {
   "cell_type": "code",
   "execution_count": 12,
   "metadata": {},
   "outputs": [],
   "source": [
    "df['Gender'].replace({'Male':0, 'Female':1}, inplace=True)"
   ]
  },
  {
   "cell_type": "code",
   "execution_count": 13,
   "metadata": {},
   "outputs": [
    {
     "data": {
      "text/plain": [
       "<AxesSubplot:>"
      ]
     },
     "execution_count": 13,
     "metadata": {},
     "output_type": "execute_result"
    },
    {
     "data": {
      "image/png": "[encoded data removed]",
      "text/plain": [
       "<Figure size 1080x1080 with 2 Axes>"
      ]
     },
     "metadata": {},
     "output_type": "display_data"
    }
   ],
   "source": [
    "plt.figure(figsize=(15,15))\n",
    "sns.heatmap(df.corr(), annot=True)"
   ]
  },
  {
   "cell_type": "code",
   "execution_count": 14,
   "metadata": {},
   "outputs": [
    {
     "data": {
      "text/plain": [
       "0.000         3617\n",
       "105473.740       2\n",
       "130170.820       2\n",
       "72594.000        1\n",
       "139723.900       1\n",
       "              ... \n",
       "130306.490       1\n",
       "92895.560        1\n",
       "132005.770       1\n",
       "166287.850       1\n",
       "104001.380       1\n",
       "Name: Balance, Length: 6382, dtype: int64"
      ]
     },
     "execution_count": 14,
     "metadata": {},
     "output_type": "execute_result"
    }
   ],
   "source": [
    "df.Balance.value_counts()"
   ]
  },
  {
   "cell_type": "code",
   "execution_count": 15,
   "metadata": {},
   "outputs": [
    {
     "data": {
      "image/png": "[encoded data removed]",
      "text/plain": [
       "<Figure size 864x432 with 1 Axes>"
      ]
     },
     "metadata": {},
     "output_type": "display_data"
    }
   ],
   "source": [
    "sns.distplot(df.Balance, hist=True);"
   ]
  },
  {
   "cell_type": "markdown",
   "metadata": {},
   "source": [
    "- Sıfır bakiyesi olan çok sayıda müşteri olduğu için, bir müşterinin sıfır bakiyesi olup olmadığını gösteren yeni bir feature oluşturuyorum."
   ]
  },
  {
   "cell_type": "code",
   "execution_count": 16,
   "metadata": {},
   "outputs": [],
   "source": [
    "df['Balance_binary'] = df['Balance'].where(df['Balance'] == 0, 1)  # Balence' da 0 olan değerleri yeni sütuna 0 olarak diğerlerini 1 olarak atıyor."
   ]
  },
  {
   "cell_type": "code",
   "execution_count": 17,
   "metadata": {},
   "outputs": [
    {
     "data": {
      "text/plain": [
       "1.000    6383\n",
       "0.000    3617\n",
       "Name: Balance_binary, dtype: int64"
      ]
     },
     "execution_count": 17,
     "metadata": {},
     "output_type": "execute_result"
    }
   ],
   "source": [
    "df['Balance_binary'].value_counts()"
   ]
  },
  {
   "cell_type": "code",
   "execution_count": 18,
   "metadata": {},
   "outputs": [],
   "source": [
    "df.drop('Balance', axis=1, inplace=True)"
   ]
  },
  {
   "cell_type": "code",
   "execution_count": 19,
   "metadata": {},
   "outputs": [
    {
     "data": {
      "text/html": [
       "<div>\n",
       "<style scoped>\n",
       "    .dataframe tbody tr th:only-of-type {\n",
       "        vertical-align: middle;\n",
       "    }\n",
       "\n",
       "    .dataframe tbody tr th {\n",
       "        vertical-align: top;\n",
       "    }\n",
       "\n",
       "    .dataframe thead th {\n",
       "        text-align: right;\n",
       "    }\n",
       "</style>\n",
       "<table border=\"1\" class=\"dataframe\">\n",
       "  <thead>\n",
       "    <tr style=\"text-align: right;\">\n",
       "      <th></th>\n",
       "      <th>CreditScore</th>\n",
       "      <th>Geography</th>\n",
       "      <th>Gender</th>\n",
       "      <th>Age</th>\n",
       "      <th>Tenure</th>\n",
       "      <th>NumOfProducts</th>\n",
       "      <th>HasCrCard</th>\n",
       "      <th>IsActiveMember</th>\n",
       "      <th>EstimatedSalary</th>\n",
       "      <th>Exited</th>\n",
       "      <th>Balance_binary</th>\n",
       "    </tr>\n",
       "  </thead>\n",
       "  <tbody>\n",
       "    <tr>\n",
       "      <th>0</th>\n",
       "      <td>619</td>\n",
       "      <td>France</td>\n",
       "      <td>1</td>\n",
       "      <td>42</td>\n",
       "      <td>2</td>\n",
       "      <td>1</td>\n",
       "      <td>1</td>\n",
       "      <td>1</td>\n",
       "      <td>101348.880</td>\n",
       "      <td>1</td>\n",
       "      <td>0.000</td>\n",
       "    </tr>\n",
       "    <tr>\n",
       "      <th>1</th>\n",
       "      <td>608</td>\n",
       "      <td>Spain</td>\n",
       "      <td>1</td>\n",
       "      <td>41</td>\n",
       "      <td>1</td>\n",
       "      <td>1</td>\n",
       "      <td>0</td>\n",
       "      <td>1</td>\n",
       "      <td>112542.580</td>\n",
       "      <td>0</td>\n",
       "      <td>1.000</td>\n",
       "    </tr>\n",
       "    <tr>\n",
       "      <th>2</th>\n",
       "      <td>502</td>\n",
       "      <td>France</td>\n",
       "      <td>1</td>\n",
       "      <td>42</td>\n",
       "      <td>8</td>\n",
       "      <td>3</td>\n",
       "      <td>1</td>\n",
       "      <td>0</td>\n",
       "      <td>113931.570</td>\n",
       "      <td>1</td>\n",
       "      <td>1.000</td>\n",
       "    </tr>\n",
       "    <tr>\n",
       "      <th>3</th>\n",
       "      <td>699</td>\n",
       "      <td>France</td>\n",
       "      <td>1</td>\n",
       "      <td>39</td>\n",
       "      <td>1</td>\n",
       "      <td>2</td>\n",
       "      <td>0</td>\n",
       "      <td>0</td>\n",
       "      <td>93826.630</td>\n",
       "      <td>0</td>\n",
       "      <td>0.000</td>\n",
       "    </tr>\n",
       "    <tr>\n",
       "      <th>4</th>\n",
       "      <td>850</td>\n",
       "      <td>Spain</td>\n",
       "      <td>1</td>\n",
       "      <td>43</td>\n",
       "      <td>2</td>\n",
       "      <td>1</td>\n",
       "      <td>1</td>\n",
       "      <td>1</td>\n",
       "      <td>79084.100</td>\n",
       "      <td>0</td>\n",
       "      <td>1.000</td>\n",
       "    </tr>\n",
       "  </tbody>\n",
       "</table>\n",
       "</div>"
      ],
      "text/plain": [
       "   CreditScore Geography  Gender  Age  Tenure  NumOfProducts  HasCrCard  \\\n",
       "0          619    France       1   42       2              1          1   \n",
       "1          608     Spain       1   41       1              1          0   \n",
       "2          502    France       1   42       8              3          1   \n",
       "3          699    France       1   39       1              2          0   \n",
       "4          850     Spain       1   43       2              1          1   \n",
       "\n",
       "   IsActiveMember  EstimatedSalary  Exited  Balance_binary  \n",
       "0               1       101348.880       1           0.000  \n",
       "1               1       112542.580       0           1.000  \n",
       "2               0       113931.570       1           1.000  \n",
       "3               0        93826.630       0           0.000  \n",
       "4               1        79084.100       0           1.000  "
      ]
     },
     "execution_count": 19,
     "metadata": {},
     "output_type": "execute_result"
    }
   ],
   "source": [
    "df.head()"
   ]
  },
  {
   "cell_type": "code",
   "execution_count": 20,
   "metadata": {},
   "outputs": [
    {
     "data": {
      "text/plain": [
       "37    478\n",
       "38    477\n",
       "35    474\n",
       "36    456\n",
       "34    447\n",
       "     ... \n",
       "92      2\n",
       "88      1\n",
       "82      1\n",
       "85      1\n",
       "83      1\n",
       "Name: Age, Length: 70, dtype: int64"
      ]
     },
     "execution_count": 20,
     "metadata": {},
     "output_type": "execute_result"
    }
   ],
   "source": [
    "df.Age.value_counts()"
   ]
  },
  {
   "cell_type": "code",
   "execution_count": 21,
   "metadata": {},
   "outputs": [
    {
     "data": {
      "image/png": "[encoded data removed]",
      "text/plain": [
       "<Figure size 864x432 with 1 Axes>"
      ]
     },
     "metadata": {},
     "output_type": "display_data"
    }
   ],
   "source": [
    "sns.countplot(df.Age);\n"
   ]
  },
  {
   "cell_type": "code",
   "execution_count": 22,
   "metadata": {},
   "outputs": [
    {
     "data": {
      "text/plain": [
       "<AxesSubplot:ylabel='Age'>"
      ]
     },
     "execution_count": 22,
     "metadata": {},
     "output_type": "execute_result"
    },
    {
     "data": {
      "image/png": "[encoded data removed]",
      "text/plain": [
       "<Figure size 864x432 with 1 Axes>"
      ]
     },
     "metadata": {},
     "output_type": "display_data"
    }
   ],
   "source": [
    "sns.boxplot(y=df['Age'])"
   ]
  },
  {
   "cell_type": "code",
   "execution_count": 23,
   "metadata": {},
   "outputs": [
    {
     "data": {
      "text/plain": [
       "(9474, 14)"
      ]
     },
     "execution_count": 23,
     "metadata": {},
     "output_type": "execute_result"
    }
   ],
   "source": [
    "Q1 = np.quantile(df['Age'],0.95)\n",
    "df = df[df['Age'] < Q1]\n",
    "df.shape\n",
    "(9474, 14)"
   ]
  },
  {
   "cell_type": "code",
   "execution_count": 24,
   "metadata": {},
   "outputs": [
    {
     "data": {
      "text/html": [
       "<div>\n",
       "<style scoped>\n",
       "    .dataframe tbody tr th:only-of-type {\n",
       "        vertical-align: middle;\n",
       "    }\n",
       "\n",
       "    .dataframe tbody tr th {\n",
       "        vertical-align: top;\n",
       "    }\n",
       "\n",
       "    .dataframe thead th {\n",
       "        text-align: right;\n",
       "    }\n",
       "</style>\n",
       "<table border=\"1\" class=\"dataframe\">\n",
       "  <thead>\n",
       "    <tr style=\"text-align: right;\">\n",
       "      <th></th>\n",
       "      <th>Age</th>\n",
       "    </tr>\n",
       "    <tr>\n",
       "      <th>Exited</th>\n",
       "      <th></th>\n",
       "    </tr>\n",
       "  </thead>\n",
       "  <tbody>\n",
       "    <tr>\n",
       "      <th>0</th>\n",
       "      <td>35.890</td>\n",
       "    </tr>\n",
       "    <tr>\n",
       "      <th>1</th>\n",
       "      <td>43.379</td>\n",
       "    </tr>\n",
       "  </tbody>\n",
       "</table>\n",
       "</div>"
      ],
      "text/plain": [
       "          Age\n",
       "Exited       \n",
       "0      35.890\n",
       "1      43.379"
      ]
     },
     "execution_count": 24,
     "metadata": {},
     "output_type": "execute_result"
    }
   ],
   "source": [
    "df[['Exited','Age']].groupby('Exited').mean()"
   ]
  },
  {
   "cell_type": "code",
   "execution_count": 25,
   "metadata": {},
   "outputs": [
    {
     "data": {
      "text/plain": [
       "2     994\n",
       "8     980\n",
       "7     979\n",
       "1     974\n",
       "5     952\n",
       "3     950\n",
       "4     948\n",
       "9     926\n",
       "6     919\n",
       "10    462\n",
       "0     390\n",
       "Name: Tenure, dtype: int64"
      ]
     },
     "execution_count": 25,
     "metadata": {},
     "output_type": "execute_result"
    }
   ],
   "source": [
    "df.Tenure.value_counts()"
   ]
  },
  {
   "cell_type": "code",
   "execution_count": 26,
   "metadata": {},
   "outputs": [
    {
     "data": {
      "image/png": "[encoded data removed]",
      "text/plain": [
       "<Figure size 864x432 with 1 Axes>"
      ]
     },
     "metadata": {},
     "output_type": "display_data"
    }
   ],
   "source": [
    "sns.countplot(df.Tenure);"
   ]
  },
  {
   "cell_type": "code",
   "execution_count": 27,
   "metadata": {},
   "outputs": [
    {
     "data": {
      "text/plain": [
       "0    7584\n",
       "1    1890\n",
       "Name: Exited, dtype: int64"
      ]
     },
     "execution_count": 27,
     "metadata": {},
     "output_type": "execute_result"
    }
   ],
   "source": [
    "df.Exited.value_counts()"
   ]
  },
  {
   "cell_type": "code",
   "execution_count": 28,
   "metadata": {},
   "outputs": [
    {
     "data": {
      "image/png": "[encoded data removed]",
      "text/plain": [
       "<Figure size 864x432 with 1 Axes>"
      ]
     },
     "metadata": {},
     "output_type": "display_data"
    }
   ],
   "source": [
    "sns.countplot(df.Exited);"
   ]
  },
  {
   "cell_type": "code",
   "execution_count": 29,
   "metadata": {},
   "outputs": [
    {
     "data": {
      "text/plain": [
       "0    5172\n",
       "1    4302\n",
       "Name: Gender, dtype: int64"
      ]
     },
     "execution_count": 29,
     "metadata": {},
     "output_type": "execute_result"
    }
   ],
   "source": [
    "df.Gender.value_counts()"
   ]
  },
  {
   "cell_type": "code",
   "execution_count": 30,
   "metadata": {},
   "outputs": [
    {
     "data": {
      "image/png": "[encoded data removed]",
      "text/plain": [
       "<Figure size 864x432 with 1 Axes>"
      ]
     },
     "metadata": {},
     "output_type": "display_data"
    }
   ],
   "source": [
    "sns.countplot(df.Gender);"
   ]
  },
  {
   "cell_type": "code",
   "execution_count": 31,
   "metadata": {},
   "outputs": [
    {
     "data": {
      "image/png": "[encoded data removed]",
      "text/plain": [
       "<Figure size 576x720 with 1 Axes>"
      ]
     },
     "metadata": {},
     "output_type": "display_data"
    }
   ],
   "source": [
    "plt.figure(figsize = (8,10))\n",
    "df.corr()['Exited'].sort_values().drop(\"Exited\").plot(kind = \"barh\");"
   ]
  },
  {
   "cell_type": "code",
   "execution_count": 32,
   "metadata": {},
   "outputs": [
    {
     "data": {
      "text/html": [
       "<div>\n",
       "<style scoped>\n",
       "    .dataframe tbody tr th:only-of-type {\n",
       "        vertical-align: middle;\n",
       "    }\n",
       "\n",
       "    .dataframe tbody tr th {\n",
       "        vertical-align: top;\n",
       "    }\n",
       "\n",
       "    .dataframe thead th {\n",
       "        text-align: right;\n",
       "    }\n",
       "</style>\n",
       "<table border=\"1\" class=\"dataframe\">\n",
       "  <thead>\n",
       "    <tr style=\"text-align: right;\">\n",
       "      <th></th>\n",
       "      <th>CreditScore</th>\n",
       "      <th>Geography</th>\n",
       "      <th>Gender</th>\n",
       "      <th>Age</th>\n",
       "      <th>Tenure</th>\n",
       "      <th>NumOfProducts</th>\n",
       "      <th>HasCrCard</th>\n",
       "      <th>IsActiveMember</th>\n",
       "      <th>EstimatedSalary</th>\n",
       "      <th>Exited</th>\n",
       "      <th>Balance_binary</th>\n",
       "    </tr>\n",
       "  </thead>\n",
       "  <tbody>\n",
       "    <tr>\n",
       "      <th>0</th>\n",
       "      <td>619</td>\n",
       "      <td>France</td>\n",
       "      <td>1</td>\n",
       "      <td>42</td>\n",
       "      <td>2</td>\n",
       "      <td>1</td>\n",
       "      <td>1</td>\n",
       "      <td>1</td>\n",
       "      <td>101348.880</td>\n",
       "      <td>1</td>\n",
       "      <td>0.000</td>\n",
       "    </tr>\n",
       "    <tr>\n",
       "      <th>1</th>\n",
       "      <td>608</td>\n",
       "      <td>Spain</td>\n",
       "      <td>1</td>\n",
       "      <td>41</td>\n",
       "      <td>1</td>\n",
       "      <td>1</td>\n",
       "      <td>0</td>\n",
       "      <td>1</td>\n",
       "      <td>112542.580</td>\n",
       "      <td>0</td>\n",
       "      <td>1.000</td>\n",
       "    </tr>\n",
       "    <tr>\n",
       "      <th>2</th>\n",
       "      <td>502</td>\n",
       "      <td>France</td>\n",
       "      <td>1</td>\n",
       "      <td>42</td>\n",
       "      <td>8</td>\n",
       "      <td>3</td>\n",
       "      <td>1</td>\n",
       "      <td>0</td>\n",
       "      <td>113931.570</td>\n",
       "      <td>1</td>\n",
       "      <td>1.000</td>\n",
       "    </tr>\n",
       "    <tr>\n",
       "      <th>3</th>\n",
       "      <td>699</td>\n",
       "      <td>France</td>\n",
       "      <td>1</td>\n",
       "      <td>39</td>\n",
       "      <td>1</td>\n",
       "      <td>2</td>\n",
       "      <td>0</td>\n",
       "      <td>0</td>\n",
       "      <td>93826.630</td>\n",
       "      <td>0</td>\n",
       "      <td>0.000</td>\n",
       "    </tr>\n",
       "    <tr>\n",
       "      <th>4</th>\n",
       "      <td>850</td>\n",
       "      <td>Spain</td>\n",
       "      <td>1</td>\n",
       "      <td>43</td>\n",
       "      <td>2</td>\n",
       "      <td>1</td>\n",
       "      <td>1</td>\n",
       "      <td>1</td>\n",
       "      <td>79084.100</td>\n",
       "      <td>0</td>\n",
       "      <td>1.000</td>\n",
       "    </tr>\n",
       "  </tbody>\n",
       "</table>\n",
       "</div>"
      ],
      "text/plain": [
       "   CreditScore Geography  Gender  Age  Tenure  NumOfProducts  HasCrCard  \\\n",
       "0          619    France       1   42       2              1          1   \n",
       "1          608     Spain       1   41       1              1          0   \n",
       "2          502    France       1   42       8              3          1   \n",
       "3          699    France       1   39       1              2          0   \n",
       "4          850     Spain       1   43       2              1          1   \n",
       "\n",
       "   IsActiveMember  EstimatedSalary  Exited  Balance_binary  \n",
       "0               1       101348.880       1           0.000  \n",
       "1               1       112542.580       0           1.000  \n",
       "2               0       113931.570       1           1.000  \n",
       "3               0        93826.630       0           0.000  \n",
       "4               1        79084.100       0           1.000  "
      ]
     },
     "execution_count": 32,
     "metadata": {},
     "output_type": "execute_result"
    }
   ],
   "source": [
    "df.head()"
   ]
  },
  {
   "cell_type": "markdown",
   "metadata": {
    "id": "mPmgf6WVO3pb"
   },
   "source": [
    "## Preprocessing of Data\n",
    "- Train | Test Split, Scalling"
   ]
  },
  {
   "cell_type": "code",
   "execution_count": 33,
   "metadata": {
    "id": "4c1befR4O3pd"
   },
   "outputs": [],
   "source": [
    "from sklearn.model_selection import train_test_split\n",
    "from sklearn.preprocessing import MinMaxScaler"
   ]
  },
  {
   "cell_type": "code",
   "execution_count": 34,
   "metadata": {
    "id": "kjyTH753lq7M"
   },
   "outputs": [],
   "source": [
    "X = df.drop('Exited', axis=1)\n",
    "y = df['Exited'].values"
   ]
  },
  {
   "cell_type": "code",
   "execution_count": 35,
   "metadata": {},
   "outputs": [
    {
     "data": {
      "text/html": [
       "<div>\n",
       "<style scoped>\n",
       "    .dataframe tbody tr th:only-of-type {\n",
       "        vertical-align: middle;\n",
       "    }\n",
       "\n",
       "    .dataframe tbody tr th {\n",
       "        vertical-align: top;\n",
       "    }\n",
       "\n",
       "    .dataframe thead th {\n",
       "        text-align: right;\n",
       "    }\n",
       "</style>\n",
       "<table border=\"1\" class=\"dataframe\">\n",
       "  <thead>\n",
       "    <tr style=\"text-align: right;\">\n",
       "      <th></th>\n",
       "      <th>CreditScore</th>\n",
       "      <th>Gender</th>\n",
       "      <th>Age</th>\n",
       "      <th>Tenure</th>\n",
       "      <th>NumOfProducts</th>\n",
       "      <th>HasCrCard</th>\n",
       "      <th>IsActiveMember</th>\n",
       "      <th>EstimatedSalary</th>\n",
       "      <th>Balance_binary</th>\n",
       "      <th>Geography_France</th>\n",
       "      <th>Geography_Germany</th>\n",
       "      <th>Geography_Spain</th>\n",
       "    </tr>\n",
       "  </thead>\n",
       "  <tbody>\n",
       "    <tr>\n",
       "      <th>0</th>\n",
       "      <td>619</td>\n",
       "      <td>1</td>\n",
       "      <td>42</td>\n",
       "      <td>2</td>\n",
       "      <td>1</td>\n",
       "      <td>1</td>\n",
       "      <td>1</td>\n",
       "      <td>101348.880</td>\n",
       "      <td>0.000</td>\n",
       "      <td>1</td>\n",
       "      <td>0</td>\n",
       "      <td>0</td>\n",
       "    </tr>\n",
       "    <tr>\n",
       "      <th>1</th>\n",
       "      <td>608</td>\n",
       "      <td>1</td>\n",
       "      <td>41</td>\n",
       "      <td>1</td>\n",
       "      <td>1</td>\n",
       "      <td>0</td>\n",
       "      <td>1</td>\n",
       "      <td>112542.580</td>\n",
       "      <td>1.000</td>\n",
       "      <td>0</td>\n",
       "      <td>0</td>\n",
       "      <td>1</td>\n",
       "    </tr>\n",
       "    <tr>\n",
       "      <th>2</th>\n",
       "      <td>502</td>\n",
       "      <td>1</td>\n",
       "      <td>42</td>\n",
       "      <td>8</td>\n",
       "      <td>3</td>\n",
       "      <td>1</td>\n",
       "      <td>0</td>\n",
       "      <td>113931.570</td>\n",
       "      <td>1.000</td>\n",
       "      <td>1</td>\n",
       "      <td>0</td>\n",
       "      <td>0</td>\n",
       "    </tr>\n",
       "    <tr>\n",
       "      <th>3</th>\n",
       "      <td>699</td>\n",
       "      <td>1</td>\n",
       "      <td>39</td>\n",
       "      <td>1</td>\n",
       "      <td>2</td>\n",
       "      <td>0</td>\n",
       "      <td>0</td>\n",
       "      <td>93826.630</td>\n",
       "      <td>0.000</td>\n",
       "      <td>1</td>\n",
       "      <td>0</td>\n",
       "      <td>0</td>\n",
       "    </tr>\n",
       "    <tr>\n",
       "      <th>4</th>\n",
       "      <td>850</td>\n",
       "      <td>1</td>\n",
       "      <td>43</td>\n",
       "      <td>2</td>\n",
       "      <td>1</td>\n",
       "      <td>1</td>\n",
       "      <td>1</td>\n",
       "      <td>79084.100</td>\n",
       "      <td>1.000</td>\n",
       "      <td>0</td>\n",
       "      <td>0</td>\n",
       "      <td>1</td>\n",
       "    </tr>\n",
       "  </tbody>\n",
       "</table>\n",
       "</div>"
      ],
      "text/plain": [
       "   CreditScore  Gender  Age  Tenure  NumOfProducts  HasCrCard  IsActiveMember  \\\n",
       "0          619       1   42       2              1          1               1   \n",
       "1          608       1   41       1              1          0               1   \n",
       "2          502       1   42       8              3          1               0   \n",
       "3          699       1   39       1              2          0               0   \n",
       "4          850       1   43       2              1          1               1   \n",
       "\n",
       "   EstimatedSalary  Balance_binary  Geography_France  Geography_Germany  \\\n",
       "0       101348.880           0.000                 1                  0   \n",
       "1       112542.580           1.000                 0                  0   \n",
       "2       113931.570           1.000                 1                  0   \n",
       "3        93826.630           0.000                 1                  0   \n",
       "4        79084.100           1.000                 0                  0   \n",
       "\n",
       "   Geography_Spain  \n",
       "0                0  \n",
       "1                1  \n",
       "2                0  \n",
       "3                0  \n",
       "4                1  "
      ]
     },
     "execution_count": 35,
     "metadata": {},
     "output_type": "execute_result"
    }
   ],
   "source": [
    "X = pd.get_dummies(X)\n",
    "\n",
    "X.head()"
   ]
  },
  {
   "cell_type": "code",
   "execution_count": 36,
   "metadata": {
    "id": "-U7qM3NxmKZX"
   },
   "outputs": [],
   "source": [
    "X_train, X_test, y_train, y_test = train_test_split(X, y, stratify = y, test_size = 0.10, random_state = 42)"
   ]
  },
  {
   "cell_type": "code",
   "execution_count": 37,
   "metadata": {
    "id": "BrGWLo-pyDVe"
   },
   "outputs": [],
   "source": [
    "scaler = MinMaxScaler()"
   ]
  },
  {
   "cell_type": "code",
   "execution_count": 38,
   "metadata": {
    "id": "Fgy3D9SBmWcq"
   },
   "outputs": [],
   "source": [
    "X_train= scaler.fit_transform(X_train)\n",
    "X_test = scaler.transform(X_test)"
   ]
  },
  {
   "cell_type": "code",
   "execution_count": null,
   "metadata": {},
   "outputs": [],
   "source": []
  },
  {
   "cell_type": "code",
   "execution_count": null,
   "metadata": {},
   "outputs": [],
   "source": []
  },
  {
   "cell_type": "markdown",
   "metadata": {
    "id": "Ha9hDt_AoGaE"
   },
   "source": [
    "## Modelling & Model Performance"
   ]
  },
  {
   "cell_type": "markdown",
   "metadata": {
    "id": "WxAGVhK7O3pf"
   },
   "source": [
    "### Import related libraries"
   ]
  },
  {
   "cell_type": "code",
   "execution_count": 39,
   "metadata": {
    "id": "WqT19XyXO3pg"
   },
   "outputs": [],
   "source": [
    "from tensorflow.keras.models import Sequential\n",
    "from tensorflow.keras.layers import Dense, Activation\n",
    "from sklearn.metrics import classification_report, confusion_matrix\n",
    "from sklearn.metrics import plot_roc_curve, roc_auc_score, roc_curve\n",
    "from sklearn.model_selection import cross_val_score, cross_validate\n",
    "from sklearn.model_selection import GridSearchCV\n",
    "from tensorflow.keras.callbacks import EarlyStopping\n",
    "from tensorflow.keras.optimizers import Adam\n",
    "from tensorflow.keras.layers import Dropout\n",
    "from tensorflow.keras.wrappers.scikit_learn import KerasClassifier"
   ]
  },
  {
   "cell_type": "markdown",
   "metadata": {
    "id": "I_gV9EMxO3ph"
   },
   "source": [
    "### Creating Model"
   ]
  },
  {
   "cell_type": "markdown",
   "metadata": {
    "id": "JqiFIEcRO3pi"
   },
   "source": [
    "### without class_weigth"
   ]
  },
  {
   "cell_type": "code",
   "execution_count": 40,
   "metadata": {},
   "outputs": [
    {
     "data": {
      "text/plain": [
       "(8526, 12)"
      ]
     },
     "execution_count": 40,
     "metadata": {},
     "output_type": "execute_result"
    }
   ],
   "source": [
    "X_train.shape"
   ]
  },
  {
   "cell_type": "code",
   "execution_count": 41,
   "metadata": {},
   "outputs": [
    {
     "data": {
      "text/plain": [
       "(948, 12)"
      ]
     },
     "execution_count": 41,
     "metadata": {},
     "output_type": "execute_result"
    }
   ],
   "source": [
    "X_test.shape"
   ]
  },
  {
   "cell_type": "markdown",
   "metadata": {
    "id": "UogGQGs4vsuD"
   },
   "source": [
    "### *EarlyStopping*"
   ]
  },
  {
   "cell_type": "code",
   "execution_count": 42,
   "metadata": {
    "id": "rjs0OAMcO3pi"
   },
   "outputs": [],
   "source": [
    "model = Sequential()\n",
    "\n",
    "model.add(Dense(12, activation = \"relu\"))\n",
    "model.add(Dense(12, activation = \"relu\"))\n",
    "model.add(Dense(1, activation = \"sigmoid\"))\n",
    "\n",
    "model.compile(optimizer = \"adam\", loss = \"binary_crossentropy\", metrics = [\"accuracy\"])"
   ]
  },
  {
   "cell_type": "code",
   "execution_count": 43,
   "metadata": {},
   "outputs": [],
   "source": [
    "early_stop = EarlyStopping(monitor = \"val_loss\", mode = \"auto\", verbose = 1, patience = 15)"
   ]
  },
  {
   "cell_type": "code",
   "execution_count": 44,
   "metadata": {},
   "outputs": [
    {
     "name": "stdout",
     "output_type": "stream",
     "text": [
      "Epoch 1/1000\n",
      "240/240 [==============================] - 1s 2ms/step - loss: 0.5298 - accuracy: 0.7777 - val_loss: 0.4884 - val_accuracy: 0.7960\n",
      "Epoch 2/1000\n",
      "240/240 [==============================] - 0s 1ms/step - loss: 0.4681 - accuracy: 0.8015 - val_loss: 0.4728 - val_accuracy: 0.7960\n",
      "Epoch 3/1000\n",
      "240/240 [==============================] - 0s 1ms/step - loss: 0.4511 - accuracy: 0.8044 - val_loss: 0.4575 - val_accuracy: 0.8077\n",
      "Epoch 4/1000\n",
      "240/240 [==============================] - 0s 1ms/step - loss: 0.4328 - accuracy: 0.8126 - val_loss: 0.4382 - val_accuracy: 0.8136\n",
      "Epoch 5/1000\n",
      "240/240 [==============================] - 0s 1ms/step - loss: 0.4162 - accuracy: 0.8215 - val_loss: 0.4249 - val_accuracy: 0.8230\n",
      "Epoch 6/1000\n",
      "240/240 [==============================] - 0s 1ms/step - loss: 0.4072 - accuracy: 0.8269 - val_loss: 0.4248 - val_accuracy: 0.8230\n",
      "Epoch 7/1000\n",
      "240/240 [==============================] - 0s 1ms/step - loss: 0.4041 - accuracy: 0.8307 - val_loss: 0.4190 - val_accuracy: 0.8265\n",
      "Epoch 8/1000\n",
      "240/240 [==============================] - 0s 1ms/step - loss: 0.4014 - accuracy: 0.8324 - val_loss: 0.4164 - val_accuracy: 0.8277\n",
      "Epoch 9/1000\n",
      "240/240 [==============================] - 0s 1ms/step - loss: 0.3995 - accuracy: 0.8311 - val_loss: 0.4179 - val_accuracy: 0.8277\n",
      "Epoch 10/1000\n",
      "240/240 [==============================] - 0s 1ms/step - loss: 0.3982 - accuracy: 0.8333 - val_loss: 0.4171 - val_accuracy: 0.8230\n",
      "Epoch 11/1000\n",
      "240/240 [==============================] - 0s 1ms/step - loss: 0.3989 - accuracy: 0.8331 - val_loss: 0.4140 - val_accuracy: 0.8265\n",
      "Epoch 12/1000\n",
      "240/240 [==============================] - 0s 1ms/step - loss: 0.3971 - accuracy: 0.8332 - val_loss: 0.4139 - val_accuracy: 0.8265\n",
      "Epoch 13/1000\n",
      "240/240 [==============================] - 0s 1ms/step - loss: 0.3974 - accuracy: 0.8324 - val_loss: 0.4132 - val_accuracy: 0.8300\n",
      "Epoch 14/1000\n",
      "240/240 [==============================] - 0s 1ms/step - loss: 0.3959 - accuracy: 0.8327 - val_loss: 0.4130 - val_accuracy: 0.8300\n",
      "Epoch 15/1000\n",
      "240/240 [==============================] - 0s 1ms/step - loss: 0.3949 - accuracy: 0.8340 - val_loss: 0.4160 - val_accuracy: 0.8265\n",
      "Epoch 16/1000\n",
      "240/240 [==============================] - 0s 1ms/step - loss: 0.3947 - accuracy: 0.8358 - val_loss: 0.4165 - val_accuracy: 0.8277\n",
      "Epoch 17/1000\n",
      "240/240 [==============================] - 0s 1ms/step - loss: 0.3942 - accuracy: 0.8353 - val_loss: 0.4123 - val_accuracy: 0.8300\n",
      "Epoch 18/1000\n",
      "240/240 [==============================] - 0s 1ms/step - loss: 0.3938 - accuracy: 0.8354 - val_loss: 0.4106 - val_accuracy: 0.8312\n",
      "Epoch 19/1000\n",
      "240/240 [==============================] - 0s 1ms/step - loss: 0.3918 - accuracy: 0.8341 - val_loss: 0.4100 - val_accuracy: 0.8253\n",
      "Epoch 20/1000\n",
      "240/240 [==============================] - 0s 1ms/step - loss: 0.3897 - accuracy: 0.8381 - val_loss: 0.4032 - val_accuracy: 0.8324\n",
      "Epoch 21/1000\n",
      "240/240 [==============================] - 0s 1ms/step - loss: 0.3837 - accuracy: 0.8405 - val_loss: 0.3947 - val_accuracy: 0.8335\n",
      "Epoch 22/1000\n",
      "240/240 [==============================] - 0s 1ms/step - loss: 0.3771 - accuracy: 0.8454 - val_loss: 0.3842 - val_accuracy: 0.8394\n",
      "Epoch 23/1000\n",
      "240/240 [==============================] - 0s 1ms/step - loss: 0.3696 - accuracy: 0.8491 - val_loss: 0.3765 - val_accuracy: 0.8394\n",
      "Epoch 24/1000\n",
      "240/240 [==============================] - 0s 1ms/step - loss: 0.3635 - accuracy: 0.8513 - val_loss: 0.3711 - val_accuracy: 0.8406\n",
      "Epoch 25/1000\n",
      "240/240 [==============================] - 0s 1ms/step - loss: 0.3580 - accuracy: 0.8552 - val_loss: 0.3623 - val_accuracy: 0.8488\n",
      "Epoch 26/1000\n",
      "240/240 [==============================] - 0s 1ms/step - loss: 0.3527 - accuracy: 0.8565 - val_loss: 0.3568 - val_accuracy: 0.8523\n",
      "Epoch 27/1000\n",
      "240/240 [==============================] - 0s 1ms/step - loss: 0.3482 - accuracy: 0.8564 - val_loss: 0.3529 - val_accuracy: 0.8558\n",
      "Epoch 28/1000\n",
      "240/240 [==============================] - 0s 1ms/step - loss: 0.3447 - accuracy: 0.8581 - val_loss: 0.3567 - val_accuracy: 0.8535\n",
      "Epoch 29/1000\n",
      "240/240 [==============================] - 0s 1ms/step - loss: 0.3421 - accuracy: 0.8592 - val_loss: 0.3492 - val_accuracy: 0.8535\n",
      "Epoch 30/1000\n",
      "240/240 [==============================] - 0s 1ms/step - loss: 0.3406 - accuracy: 0.8612 - val_loss: 0.3529 - val_accuracy: 0.8535\n",
      "Epoch 31/1000\n",
      "240/240 [==============================] - 0s 1ms/step - loss: 0.3385 - accuracy: 0.8603 - val_loss: 0.3468 - val_accuracy: 0.8570\n",
      "Epoch 32/1000\n",
      "240/240 [==============================] - 0s 1ms/step - loss: 0.3369 - accuracy: 0.8605 - val_loss: 0.3449 - val_accuracy: 0.8581\n",
      "Epoch 33/1000\n",
      "240/240 [==============================] - 0s 1ms/step - loss: 0.3358 - accuracy: 0.8603 - val_loss: 0.3455 - val_accuracy: 0.8558\n",
      "Epoch 34/1000\n",
      "240/240 [==============================] - 0s 1ms/step - loss: 0.3350 - accuracy: 0.8605 - val_loss: 0.3429 - val_accuracy: 0.8581\n",
      "Epoch 35/1000\n",
      "240/240 [==============================] - 0s 1ms/step - loss: 0.3341 - accuracy: 0.8620 - val_loss: 0.3441 - val_accuracy: 0.8558\n",
      "Epoch 36/1000\n",
      "240/240 [==============================] - 0s 1ms/step - loss: 0.3338 - accuracy: 0.8632 - val_loss: 0.3413 - val_accuracy: 0.8593\n",
      "Epoch 37/1000\n",
      "240/240 [==============================] - 0s 1ms/step - loss: 0.3335 - accuracy: 0.8616 - val_loss: 0.3416 - val_accuracy: 0.8581\n",
      "Epoch 38/1000\n",
      "240/240 [==============================] - 0s 1ms/step - loss: 0.3321 - accuracy: 0.8634 - val_loss: 0.3423 - val_accuracy: 0.8535\n",
      "Epoch 39/1000\n",
      "240/240 [==============================] - 0s 1ms/step - loss: 0.3324 - accuracy: 0.8622 - val_loss: 0.3424 - val_accuracy: 0.8558\n",
      "Epoch 40/1000\n",
      "240/240 [==============================] - 0s 1ms/step - loss: 0.3324 - accuracy: 0.8632 - val_loss: 0.3407 - val_accuracy: 0.8605\n",
      "Epoch 41/1000\n",
      "240/240 [==============================] - 0s 1ms/step - loss: 0.3320 - accuracy: 0.8626 - val_loss: 0.3422 - val_accuracy: 0.8593\n",
      "Epoch 42/1000\n",
      "240/240 [==============================] - 0s 1ms/step - loss: 0.3315 - accuracy: 0.8625 - val_loss: 0.3405 - val_accuracy: 0.8617\n",
      "Epoch 43/1000\n",
      "240/240 [==============================] - 0s 1ms/step - loss: 0.3312 - accuracy: 0.8629 - val_loss: 0.3415 - val_accuracy: 0.8593\n",
      "Epoch 44/1000\n",
      "240/240 [==============================] - 0s 1ms/step - loss: 0.3320 - accuracy: 0.8646 - val_loss: 0.3404 - val_accuracy: 0.8593\n",
      "Epoch 45/1000\n",
      "240/240 [==============================] - 0s 1ms/step - loss: 0.3307 - accuracy: 0.8625 - val_loss: 0.3409 - val_accuracy: 0.8605\n",
      "Epoch 46/1000\n",
      "240/240 [==============================] - 0s 1ms/step - loss: 0.3309 - accuracy: 0.8626 - val_loss: 0.3448 - val_accuracy: 0.8581\n",
      "Epoch 47/1000\n",
      "240/240 [==============================] - 0s 1ms/step - loss: 0.3311 - accuracy: 0.8650 - val_loss: 0.3417 - val_accuracy: 0.8558\n",
      "Epoch 48/1000\n",
      "240/240 [==============================] - 0s 1ms/step - loss: 0.3305 - accuracy: 0.8643 - val_loss: 0.3413 - val_accuracy: 0.8570\n",
      "Epoch 49/1000\n",
      "240/240 [==============================] - 0s 1ms/step - loss: 0.3301 - accuracy: 0.8645 - val_loss: 0.3413 - val_accuracy: 0.8570\n",
      "Epoch 50/1000\n",
      "240/240 [==============================] - 0s 1ms/step - loss: 0.3319 - accuracy: 0.8645 - val_loss: 0.3421 - val_accuracy: 0.8593\n",
      "Epoch 51/1000\n",
      "240/240 [==============================] - 0s 1ms/step - loss: 0.3305 - accuracy: 0.8646 - val_loss: 0.3420 - val_accuracy: 0.8617\n",
      "Epoch 52/1000\n",
      "240/240 [==============================] - 0s 1ms/step - loss: 0.3296 - accuracy: 0.8626 - val_loss: 0.3421 - val_accuracy: 0.8593\n",
      "Epoch 53/1000\n",
      "240/240 [==============================] - 0s 1ms/step - loss: 0.3300 - accuracy: 0.8629 - val_loss: 0.3466 - val_accuracy: 0.8558\n",
      "Epoch 54/1000\n",
      "240/240 [==============================] - 0s 1ms/step - loss: 0.3295 - accuracy: 0.8619 - val_loss: 0.3469 - val_accuracy: 0.8581\n",
      "Epoch 55/1000\n",
      "240/240 [==============================] - 0s 1ms/step - loss: 0.3291 - accuracy: 0.8650 - val_loss: 0.3445 - val_accuracy: 0.8593\n",
      "Epoch 56/1000\n",
      "240/240 [==============================] - 0s 1ms/step - loss: 0.3303 - accuracy: 0.8638 - val_loss: 0.3416 - val_accuracy: 0.8558\n",
      "Epoch 57/1000\n",
      "240/240 [==============================] - 0s 1ms/step - loss: 0.3292 - accuracy: 0.8637 - val_loss: 0.3417 - val_accuracy: 0.8546\n",
      "Epoch 58/1000\n",
      "240/240 [==============================] - 0s 1ms/step - loss: 0.3301 - accuracy: 0.8651 - val_loss: 0.3424 - val_accuracy: 0.8593\n",
      "Epoch 59/1000\n",
      "240/240 [==============================] - 0s 1ms/step - loss: 0.3288 - accuracy: 0.8633 - val_loss: 0.3423 - val_accuracy: 0.8605\n",
      "Epoch 00059: early stopping\n"
     ]
    },
    {
     "data": {
      "text/plain": [
       "<keras.callbacks.History at 0x1d98fa8fd90>"
      ]
     },
     "execution_count": 44,
     "metadata": {},
     "output_type": "execute_result"
    }
   ],
   "source": [
    "model.fit(x = X_train, y = y_train, validation_split = 0.1, batch_size = 32, epochs = 1000, verbose = 1,\n",
    "          callbacks = [early_stop])"
   ]
  },
  {
   "cell_type": "code",
   "execution_count": 45,
   "metadata": {},
   "outputs": [
    {
     "data": {
      "image/png": "[encoded data removed]",
      "text/plain": [
       "<Figure size 864x432 with 1 Axes>"
      ]
     },
     "metadata": {},
     "output_type": "display_data"
    }
   ],
   "source": [
    "loss_df = pd.DataFrame(model.history.history)\n",
    "loss_df.plot();"
   ]
  },
  {
   "cell_type": "code",
   "execution_count": 46,
   "metadata": {},
   "outputs": [
    {
     "name": "stdout",
     "output_type": "stream",
     "text": [
      "[[725  34]\n",
      " [112  77]]\n",
      "              precision    recall  f1-score   support\n",
      "\n",
      "           0       0.87      0.96      0.91       759\n",
      "           1       0.69      0.41      0.51       189\n",
      "\n",
      "    accuracy                           0.85       948\n",
      "   macro avg       0.78      0.68      0.71       948\n",
      "weighted avg       0.83      0.85      0.83       948\n",
      "\n"
     ]
    }
   ],
   "source": [
    "y_pred = (model.predict(X_test) > 0.5).astype(\"int32\")\n",
    "print(confusion_matrix(y_test, y_pred))\n",
    "print(classification_report(y_test, y_pred))"
   ]
  },
  {
   "cell_type": "markdown",
   "metadata": {
    "id": "_-wXekplyDVj"
   },
   "source": [
    "### *learning_rate*"
   ]
  },
  {
   "cell_type": "code",
   "execution_count": 47,
   "metadata": {
    "id": "IqQmPmURyDVj"
   },
   "outputs": [],
   "source": [
    "model = Sequential()\n",
    "\n",
    "model.add(Dense(12, activation = \"relu\"))\n",
    "model.add(Dense(12, activation = \"relu\"))\n",
    "model.add(Dense(1, activation = \"sigmoid\"))\n",
    "\n",
    "opt = Adam(lr = 0.005)\n",
    "model.compile(optimizer = opt, loss = \"binary_crossentropy\", metrics = [\"accuracy\"])"
   ]
  },
  {
   "cell_type": "code",
   "execution_count": 48,
   "metadata": {
    "id": "xhmOe2qQyDVj"
   },
   "outputs": [],
   "source": [
    "early_stop = EarlyStopping(monitor = \"val_loss\", mode = \"auto\", verbose = 1, patience = 15)"
   ]
  },
  {
   "cell_type": "code",
   "execution_count": 49,
   "metadata": {
    "colab": {
     "base_uri": "https://localhost:8080/"
    },
    "id": "bcJr0dq9yDVk",
    "outputId": "5424aac1-7404-482a-edc9-036064e9952c"
   },
   "outputs": [
    {
     "name": "stdout",
     "output_type": "stream",
     "text": [
      "Epoch 1/1000\n",
      "240/240 [==============================] - 1s 2ms/step - loss: 0.4617 - accuracy: 0.7999 - val_loss: 0.4315 - val_accuracy: 0.8171\n",
      "Epoch 2/1000\n",
      "240/240 [==============================] - 0s 1ms/step - loss: 0.4131 - accuracy: 0.8244 - val_loss: 0.4165 - val_accuracy: 0.8324\n",
      "Epoch 3/1000\n",
      "240/240 [==============================] - 0s 1ms/step - loss: 0.4059 - accuracy: 0.8229 - val_loss: 0.4108 - val_accuracy: 0.8288\n",
      "Epoch 4/1000\n",
      "240/240 [==============================] - 0s 1ms/step - loss: 0.4000 - accuracy: 0.8290 - val_loss: 0.4030 - val_accuracy: 0.8347\n",
      "Epoch 5/1000\n",
      "240/240 [==============================] - 0s 1ms/step - loss: 0.3813 - accuracy: 0.8372 - val_loss: 0.3565 - val_accuracy: 0.8617\n",
      "Epoch 6/1000\n",
      "240/240 [==============================] - 0s 1ms/step - loss: 0.3524 - accuracy: 0.8546 - val_loss: 0.3535 - val_accuracy: 0.8499\n",
      "Epoch 7/1000\n",
      "240/240 [==============================] - 0s 1ms/step - loss: 0.3458 - accuracy: 0.8590 - val_loss: 0.3415 - val_accuracy: 0.8581\n",
      "Epoch 8/1000\n",
      "240/240 [==============================] - 0s 1ms/step - loss: 0.3427 - accuracy: 0.8586 - val_loss: 0.3412 - val_accuracy: 0.8593\n",
      "Epoch 9/1000\n",
      "240/240 [==============================] - 0s 1ms/step - loss: 0.3386 - accuracy: 0.8609 - val_loss: 0.3439 - val_accuracy: 0.8581\n",
      "Epoch 10/1000\n",
      "240/240 [==============================] - 0s 1ms/step - loss: 0.3389 - accuracy: 0.8595 - val_loss: 0.3491 - val_accuracy: 0.8511\n",
      "Epoch 11/1000\n",
      "240/240 [==============================] - 0s 1ms/step - loss: 0.3395 - accuracy: 0.8581 - val_loss: 0.3416 - val_accuracy: 0.8605\n",
      "Epoch 12/1000\n",
      "240/240 [==============================] - 0s 1ms/step - loss: 0.3401 - accuracy: 0.8582 - val_loss: 0.3423 - val_accuracy: 0.8617\n",
      "Epoch 13/1000\n",
      "240/240 [==============================] - 0s 1ms/step - loss: 0.3383 - accuracy: 0.8583 - val_loss: 0.3426 - val_accuracy: 0.8581\n",
      "Epoch 14/1000\n",
      "240/240 [==============================] - 0s 1ms/step - loss: 0.3359 - accuracy: 0.8602 - val_loss: 0.3445 - val_accuracy: 0.8593\n",
      "Epoch 15/1000\n",
      "240/240 [==============================] - 0s 1ms/step - loss: 0.3367 - accuracy: 0.8582 - val_loss: 0.3427 - val_accuracy: 0.8570\n",
      "Epoch 16/1000\n",
      "240/240 [==============================] - 0s 1ms/step - loss: 0.3367 - accuracy: 0.8604 - val_loss: 0.3439 - val_accuracy: 0.8570\n",
      "Epoch 17/1000\n",
      "240/240 [==============================] - 0s 1ms/step - loss: 0.3362 - accuracy: 0.8592 - val_loss: 0.3462 - val_accuracy: 0.8535\n",
      "Epoch 18/1000\n",
      "240/240 [==============================] - 0s 1ms/step - loss: 0.3349 - accuracy: 0.8624 - val_loss: 0.3479 - val_accuracy: 0.8570\n",
      "Epoch 19/1000\n",
      "240/240 [==============================] - 0s 1ms/step - loss: 0.3357 - accuracy: 0.8578 - val_loss: 0.3420 - val_accuracy: 0.8605\n",
      "Epoch 20/1000\n",
      "240/240 [==============================] - 0s 1ms/step - loss: 0.3358 - accuracy: 0.8586 - val_loss: 0.3411 - val_accuracy: 0.8652\n",
      "Epoch 21/1000\n",
      "240/240 [==============================] - 0s 1ms/step - loss: 0.3349 - accuracy: 0.8615 - val_loss: 0.3660 - val_accuracy: 0.8523\n",
      "Epoch 22/1000\n",
      "240/240 [==============================] - 0s 1ms/step - loss: 0.3367 - accuracy: 0.8611 - val_loss: 0.3367 - val_accuracy: 0.8628\n",
      "Epoch 23/1000\n",
      "240/240 [==============================] - 0s 1ms/step - loss: 0.3359 - accuracy: 0.8598 - val_loss: 0.3452 - val_accuracy: 0.8581\n",
      "Epoch 24/1000\n",
      "240/240 [==============================] - 0s 1ms/step - loss: 0.3322 - accuracy: 0.8616 - val_loss: 0.3374 - val_accuracy: 0.8617\n",
      "Epoch 25/1000\n",
      "240/240 [==============================] - 0s 1ms/step - loss: 0.3339 - accuracy: 0.8613 - val_loss: 0.3390 - val_accuracy: 0.8640\n",
      "Epoch 26/1000\n",
      "240/240 [==============================] - 0s 1ms/step - loss: 0.3334 - accuracy: 0.8621 - val_loss: 0.3363 - val_accuracy: 0.8640\n",
      "Epoch 27/1000\n",
      "240/240 [==============================] - 0s 1ms/step - loss: 0.3327 - accuracy: 0.8620 - val_loss: 0.3418 - val_accuracy: 0.8570\n",
      "Epoch 28/1000\n",
      "240/240 [==============================] - 0s 1ms/step - loss: 0.3337 - accuracy: 0.8625 - val_loss: 0.3405 - val_accuracy: 0.8617\n",
      "Epoch 29/1000\n",
      "240/240 [==============================] - 0s 1ms/step - loss: 0.3328 - accuracy: 0.8620 - val_loss: 0.3462 - val_accuracy: 0.8581\n",
      "Epoch 30/1000\n",
      "240/240 [==============================] - 0s 2ms/step - loss: 0.3327 - accuracy: 0.8619 - val_loss: 0.3347 - val_accuracy: 0.8605\n",
      "Epoch 31/1000\n",
      "240/240 [==============================] - 0s 1ms/step - loss: 0.3336 - accuracy: 0.8612 - val_loss: 0.3432 - val_accuracy: 0.8523\n",
      "Epoch 32/1000\n",
      "240/240 [==============================] - 0s 1ms/step - loss: 0.3323 - accuracy: 0.8600 - val_loss: 0.3399 - val_accuracy: 0.8664\n",
      "Epoch 33/1000\n",
      "240/240 [==============================] - 0s 1ms/step - loss: 0.3339 - accuracy: 0.8624 - val_loss: 0.3388 - val_accuracy: 0.8628\n",
      "Epoch 34/1000\n",
      "240/240 [==============================] - 0s 1ms/step - loss: 0.3326 - accuracy: 0.8617 - val_loss: 0.3384 - val_accuracy: 0.8605\n",
      "Epoch 35/1000\n",
      "240/240 [==============================] - 0s 1ms/step - loss: 0.3325 - accuracy: 0.8616 - val_loss: 0.3381 - val_accuracy: 0.8652\n",
      "Epoch 36/1000\n",
      "240/240 [==============================] - 0s 1ms/step - loss: 0.3310 - accuracy: 0.8633 - val_loss: 0.3398 - val_accuracy: 0.8652\n",
      "Epoch 37/1000\n",
      "240/240 [==============================] - 0s 1ms/step - loss: 0.3325 - accuracy: 0.8634 - val_loss: 0.3383 - val_accuracy: 0.8605\n",
      "Epoch 38/1000\n",
      "240/240 [==============================] - 0s 1ms/step - loss: 0.3327 - accuracy: 0.8642 - val_loss: 0.3422 - val_accuracy: 0.8558\n",
      "Epoch 39/1000\n",
      "240/240 [==============================] - 0s 1ms/step - loss: 0.3316 - accuracy: 0.8624 - val_loss: 0.3333 - val_accuracy: 0.8664\n",
      "Epoch 40/1000\n",
      "240/240 [==============================] - 0s 1ms/step - loss: 0.3315 - accuracy: 0.8633 - val_loss: 0.3410 - val_accuracy: 0.8558\n",
      "Epoch 41/1000\n",
      "240/240 [==============================] - 0s 1ms/step - loss: 0.3317 - accuracy: 0.8603 - val_loss: 0.3346 - val_accuracy: 0.8617\n",
      "Epoch 42/1000\n",
      "240/240 [==============================] - 0s 1ms/step - loss: 0.3310 - accuracy: 0.8609 - val_loss: 0.3328 - val_accuracy: 0.8570\n",
      "Epoch 43/1000\n",
      "240/240 [==============================] - 0s 1ms/step - loss: 0.3309 - accuracy: 0.8639 - val_loss: 0.3385 - val_accuracy: 0.8617\n",
      "Epoch 44/1000\n",
      "240/240 [==============================] - 0s 1ms/step - loss: 0.3294 - accuracy: 0.8629 - val_loss: 0.3378 - val_accuracy: 0.8605\n",
      "Epoch 45/1000\n",
      "240/240 [==============================] - 0s 1ms/step - loss: 0.3308 - accuracy: 0.8664 - val_loss: 0.3434 - val_accuracy: 0.8581\n",
      "Epoch 46/1000\n",
      "240/240 [==============================] - 0s 1ms/step - loss: 0.3301 - accuracy: 0.8642 - val_loss: 0.3383 - val_accuracy: 0.8628\n",
      "Epoch 47/1000\n",
      "240/240 [==============================] - 0s 1ms/step - loss: 0.3283 - accuracy: 0.8637 - val_loss: 0.3381 - val_accuracy: 0.8628\n",
      "Epoch 48/1000\n",
      "240/240 [==============================] - 0s 1ms/step - loss: 0.3306 - accuracy: 0.8629 - val_loss: 0.3385 - val_accuracy: 0.8546\n",
      "Epoch 49/1000\n",
      "240/240 [==============================] - 0s 1ms/step - loss: 0.3293 - accuracy: 0.8621 - val_loss: 0.3396 - val_accuracy: 0.8605\n",
      "Epoch 50/1000\n",
      "240/240 [==============================] - 0s 1ms/step - loss: 0.3274 - accuracy: 0.8633 - val_loss: 0.3453 - val_accuracy: 0.8570\n",
      "Epoch 51/1000\n",
      "240/240 [==============================] - 0s 1ms/step - loss: 0.3300 - accuracy: 0.8632 - val_loss: 0.3402 - val_accuracy: 0.8640\n",
      "Epoch 52/1000\n",
      "240/240 [==============================] - 0s 1ms/step - loss: 0.3291 - accuracy: 0.8638 - val_loss: 0.3391 - val_accuracy: 0.8535\n",
      "Epoch 53/1000\n",
      "240/240 [==============================] - 0s 1ms/step - loss: 0.3264 - accuracy: 0.8656 - val_loss: 0.3430 - val_accuracy: 0.8581\n",
      "Epoch 54/1000\n",
      "240/240 [==============================] - 0s 1ms/step - loss: 0.3281 - accuracy: 0.8650 - val_loss: 0.3414 - val_accuracy: 0.8581\n",
      "Epoch 55/1000\n",
      "240/240 [==============================] - 0s 1ms/step - loss: 0.3300 - accuracy: 0.8645 - val_loss: 0.3420 - val_accuracy: 0.8628\n",
      "Epoch 56/1000\n",
      "240/240 [==============================] - 0s 1ms/step - loss: 0.3277 - accuracy: 0.8643 - val_loss: 0.3441 - val_accuracy: 0.8593\n",
      "Epoch 57/1000\n",
      "240/240 [==============================] - 0s 1ms/step - loss: 0.3294 - accuracy: 0.8637 - val_loss: 0.3467 - val_accuracy: 0.8593\n",
      "Epoch 00057: early stopping\n"
     ]
    },
    {
     "data": {
      "text/plain": [
       "<keras.callbacks.History at 0x1d990fac490>"
      ]
     },
     "execution_count": 49,
     "metadata": {},
     "output_type": "execute_result"
    }
   ],
   "source": [
    "model.fit(x = X_train, y = y_train, validation_split = 0.1, batch_size = 32, epochs = 1000, verbose = 1,\n",
    "          callbacks = [early_stop])"
   ]
  },
  {
   "cell_type": "code",
   "execution_count": 50,
   "metadata": {},
   "outputs": [
    {
     "data": {
      "text/plain": [
       "<AxesSubplot:>"
      ]
     },
     "execution_count": 50,
     "metadata": {},
     "output_type": "execute_result"
    },
    {
     "data": {
      "image/png": "[encoded data removed]",
      "text/plain": [
       "<Figure size 864x432 with 1 Axes>"
      ]
     },
     "metadata": {},
     "output_type": "display_data"
    }
   ],
   "source": [
    "loss_df = pd.DataFrame(model.history.history)\n",
    "loss_df.plot()"
   ]
  },
  {
   "cell_type": "code",
   "execution_count": 51,
   "metadata": {},
   "outputs": [
    {
     "name": "stdout",
     "output_type": "stream",
     "text": [
      "[[725  34]\n",
      " [112  77]]\n",
      "              precision    recall  f1-score   support\n",
      "\n",
      "           0       0.87      0.96      0.91       759\n",
      "           1       0.69      0.41      0.51       189\n",
      "\n",
      "    accuracy                           0.85       948\n",
      "   macro avg       0.78      0.68      0.71       948\n",
      "weighted avg       0.83      0.85      0.83       948\n",
      "\n"
     ]
    }
   ],
   "source": [
    "y_pred = (model.predict(X_test) > 0.5).astype(\"int32\")\n",
    "print(confusion_matrix(y_test, y_pred))\n",
    "print(classification_report(y_test, y_pred))"
   ]
  },
  {
   "cell_type": "markdown",
   "metadata": {
    "id": "ZSiIoSQ2yxiB"
   },
   "source": [
    "### *Dropout*"
   ]
  },
  {
   "cell_type": "code",
   "execution_count": 52,
   "metadata": {
    "id": "CJokLHStyr1h"
   },
   "outputs": [],
   "source": [
    "model = Sequential()\n",
    "\n",
    "model.add(Dense(30, activation=\"relu\"))\n",
    "model.add(Dropout(0.5))\n",
    "model.add(Dense(15, activation=\"relu\"))\n",
    "model.add(Dropout(0.5))\n",
    "model.add(Dense(1, activation=\"sigmoid\"))\n",
    "\n",
    "opt = Adam(lr = 0.001)\n",
    "model.compile(optimizer = opt, loss = \"binary_crossentropy\", metrics = [\"accuracy\"])"
   ]
  },
  {
   "cell_type": "code",
   "execution_count": 53,
   "metadata": {
    "colab": {
     "base_uri": "https://localhost:8080/"
    },
    "id": "TeQ4lysU0XxP",
    "outputId": "af330815-1682-40aa-e0a4-b23f15ca38bf"
   },
   "outputs": [
    {
     "name": "stdout",
     "output_type": "stream",
     "text": [
      "Epoch 1/1000\n",
      "240/240 [==============================] - 1s 2ms/step - loss: 0.6265 - accuracy: 0.6932 - val_loss: 0.4970 - val_accuracy: 0.7960\n",
      "Epoch 2/1000\n",
      "240/240 [==============================] - 0s 1ms/step - loss: 0.5234 - accuracy: 0.7997 - val_loss: 0.4766 - val_accuracy: 0.7960\n",
      "Epoch 3/1000\n",
      "240/240 [==============================] - 0s 1ms/step - loss: 0.4924 - accuracy: 0.8005 - val_loss: 0.4668 - val_accuracy: 0.7960\n",
      "Epoch 4/1000\n",
      "240/240 [==============================] - 0s 1ms/step - loss: 0.4832 - accuracy: 0.8018 - val_loss: 0.4604 - val_accuracy: 0.7960\n",
      "Epoch 5/1000\n",
      "240/240 [==============================] - 0s 1ms/step - loss: 0.4718 - accuracy: 0.8037 - val_loss: 0.4535 - val_accuracy: 0.7960\n",
      "Epoch 6/1000\n",
      "240/240 [==============================] - 0s 1ms/step - loss: 0.4644 - accuracy: 0.8057 - val_loss: 0.4436 - val_accuracy: 0.7984\n",
      "Epoch 7/1000\n",
      "240/240 [==============================] - 0s 1ms/step - loss: 0.4611 - accuracy: 0.8056 - val_loss: 0.4394 - val_accuracy: 0.8077\n",
      "Epoch 8/1000\n",
      "240/240 [==============================] - 0s 1ms/step - loss: 0.4530 - accuracy: 0.8067 - val_loss: 0.4355 - val_accuracy: 0.8077\n",
      "Epoch 9/1000\n",
      "240/240 [==============================] - 0s 1ms/step - loss: 0.4466 - accuracy: 0.8126 - val_loss: 0.4339 - val_accuracy: 0.8089\n",
      "Epoch 10/1000\n",
      "240/240 [==============================] - 0s 1ms/step - loss: 0.4419 - accuracy: 0.8112 - val_loss: 0.4290 - val_accuracy: 0.8089\n",
      "Epoch 11/1000\n",
      "240/240 [==============================] - 0s 1ms/step - loss: 0.4436 - accuracy: 0.8118 - val_loss: 0.4264 - val_accuracy: 0.8136\n",
      "Epoch 12/1000\n",
      "240/240 [==============================] - 0s 1ms/step - loss: 0.4396 - accuracy: 0.8118 - val_loss: 0.4262 - val_accuracy: 0.8195\n",
      "Epoch 13/1000\n",
      "240/240 [==============================] - 0s 1ms/step - loss: 0.4347 - accuracy: 0.8156 - val_loss: 0.4212 - val_accuracy: 0.8253\n",
      "Epoch 14/1000\n",
      "240/240 [==============================] - 0s 1ms/step - loss: 0.4349 - accuracy: 0.8153 - val_loss: 0.4175 - val_accuracy: 0.8312\n",
      "Epoch 15/1000\n",
      "240/240 [==============================] - 0s 1ms/step - loss: 0.4254 - accuracy: 0.8205 - val_loss: 0.4152 - val_accuracy: 0.8277\n",
      "Epoch 16/1000\n",
      "240/240 [==============================] - 0s 1ms/step - loss: 0.4293 - accuracy: 0.8170 - val_loss: 0.4155 - val_accuracy: 0.8370\n",
      "Epoch 17/1000\n",
      "240/240 [==============================] - 0s 1ms/step - loss: 0.4308 - accuracy: 0.8183 - val_loss: 0.4173 - val_accuracy: 0.8277\n",
      "Epoch 18/1000\n",
      "240/240 [==============================] - 0s 1ms/step - loss: 0.4263 - accuracy: 0.8185 - val_loss: 0.4135 - val_accuracy: 0.8324\n",
      "Epoch 19/1000\n",
      "240/240 [==============================] - 0s 1ms/step - loss: 0.4242 - accuracy: 0.8181 - val_loss: 0.4124 - val_accuracy: 0.8347\n",
      "Epoch 20/1000\n",
      "240/240 [==============================] - 0s 1ms/step - loss: 0.4210 - accuracy: 0.8259 - val_loss: 0.4176 - val_accuracy: 0.8242\n",
      "Epoch 21/1000\n",
      "240/240 [==============================] - 0s 1ms/step - loss: 0.4199 - accuracy: 0.8205 - val_loss: 0.4089 - val_accuracy: 0.8347\n",
      "Epoch 22/1000\n",
      "240/240 [==============================] - 0s 1ms/step - loss: 0.4160 - accuracy: 0.8200 - val_loss: 0.4101 - val_accuracy: 0.8277\n",
      "Epoch 23/1000\n",
      "240/240 [==============================] - 0s 1ms/step - loss: 0.4192 - accuracy: 0.8216 - val_loss: 0.4057 - val_accuracy: 0.8288\n",
      "Epoch 24/1000\n",
      "240/240 [==============================] - 0s 1ms/step - loss: 0.4121 - accuracy: 0.8272 - val_loss: 0.4019 - val_accuracy: 0.8429\n",
      "Epoch 25/1000\n",
      "240/240 [==============================] - 0s 1ms/step - loss: 0.4103 - accuracy: 0.8289 - val_loss: 0.4061 - val_accuracy: 0.8312\n",
      "Epoch 26/1000\n",
      "240/240 [==============================] - 0s 1ms/step - loss: 0.4124 - accuracy: 0.8269 - val_loss: 0.3945 - val_accuracy: 0.8429\n",
      "Epoch 27/1000\n",
      "240/240 [==============================] - 0s 1ms/step - loss: 0.4073 - accuracy: 0.8303 - val_loss: 0.3908 - val_accuracy: 0.8488\n",
      "Epoch 28/1000\n",
      "240/240 [==============================] - 0s 1ms/step - loss: 0.4036 - accuracy: 0.8341 - val_loss: 0.3846 - val_accuracy: 0.8511\n",
      "Epoch 29/1000\n",
      "240/240 [==============================] - 0s 1ms/step - loss: 0.4036 - accuracy: 0.8319 - val_loss: 0.3832 - val_accuracy: 0.8523\n",
      "Epoch 30/1000\n",
      "240/240 [==============================] - 0s 1ms/step - loss: 0.4011 - accuracy: 0.8324 - val_loss: 0.3782 - val_accuracy: 0.8581\n",
      "Epoch 31/1000\n",
      "240/240 [==============================] - 0s 1ms/step - loss: 0.4001 - accuracy: 0.8328 - val_loss: 0.3778 - val_accuracy: 0.8499\n",
      "Epoch 32/1000\n",
      "240/240 [==============================] - 0s 1ms/step - loss: 0.3956 - accuracy: 0.8350 - val_loss: 0.3756 - val_accuracy: 0.8535\n",
      "Epoch 33/1000\n",
      "240/240 [==============================] - 0s 1ms/step - loss: 0.3922 - accuracy: 0.8403 - val_loss: 0.3751 - val_accuracy: 0.8499\n",
      "Epoch 34/1000\n",
      "240/240 [==============================] - 0s 1ms/step - loss: 0.3917 - accuracy: 0.8376 - val_loss: 0.3769 - val_accuracy: 0.8464\n",
      "Epoch 35/1000\n",
      "240/240 [==============================] - 0s 1ms/step - loss: 0.3966 - accuracy: 0.8323 - val_loss: 0.3732 - val_accuracy: 0.8464\n",
      "Epoch 36/1000\n",
      "240/240 [==============================] - 0s 1ms/step - loss: 0.3948 - accuracy: 0.8357 - val_loss: 0.3724 - val_accuracy: 0.8488\n",
      "Epoch 37/1000\n",
      "240/240 [==============================] - 0s 1ms/step - loss: 0.3923 - accuracy: 0.8389 - val_loss: 0.3705 - val_accuracy: 0.8523\n",
      "Epoch 38/1000\n",
      "240/240 [==============================] - 0s 1ms/step - loss: 0.3878 - accuracy: 0.8376 - val_loss: 0.3717 - val_accuracy: 0.8558\n",
      "Epoch 39/1000\n",
      "240/240 [==============================] - 0s 1ms/step - loss: 0.3909 - accuracy: 0.8367 - val_loss: 0.3709 - val_accuracy: 0.8499\n",
      "Epoch 40/1000\n",
      "240/240 [==============================] - 0s 1ms/step - loss: 0.3860 - accuracy: 0.8393 - val_loss: 0.3661 - val_accuracy: 0.8488\n",
      "Epoch 41/1000\n",
      "240/240 [==============================] - 0s 1ms/step - loss: 0.3917 - accuracy: 0.8379 - val_loss: 0.3669 - val_accuracy: 0.8429\n",
      "Epoch 42/1000\n",
      "240/240 [==============================] - 0s 1ms/step - loss: 0.3852 - accuracy: 0.8380 - val_loss: 0.3601 - val_accuracy: 0.8558\n",
      "Epoch 43/1000\n",
      "240/240 [==============================] - 0s 1ms/step - loss: 0.3836 - accuracy: 0.8367 - val_loss: 0.3597 - val_accuracy: 0.8558\n",
      "Epoch 44/1000\n",
      "240/240 [==============================] - 0s 1ms/step - loss: 0.3780 - accuracy: 0.8430 - val_loss: 0.3595 - val_accuracy: 0.8546\n",
      "Epoch 45/1000\n",
      "240/240 [==============================] - 0s 1ms/step - loss: 0.3862 - accuracy: 0.8411 - val_loss: 0.3605 - val_accuracy: 0.8523\n",
      "Epoch 46/1000\n",
      "240/240 [==============================] - 0s 1ms/step - loss: 0.3851 - accuracy: 0.8409 - val_loss: 0.3606 - val_accuracy: 0.8511\n",
      "Epoch 47/1000\n",
      "240/240 [==============================] - 0s 1ms/step - loss: 0.3790 - accuracy: 0.8420 - val_loss: 0.3592 - val_accuracy: 0.8546\n",
      "Epoch 48/1000\n",
      "240/240 [==============================] - 0s 1ms/step - loss: 0.3854 - accuracy: 0.8401 - val_loss: 0.3595 - val_accuracy: 0.8558\n",
      "Epoch 49/1000\n",
      "240/240 [==============================] - 0s 1ms/step - loss: 0.3863 - accuracy: 0.8397 - val_loss: 0.3625 - val_accuracy: 0.8535\n",
      "Epoch 50/1000\n",
      "240/240 [==============================] - 0s 1ms/step - loss: 0.3840 - accuracy: 0.8414 - val_loss: 0.3546 - val_accuracy: 0.8617\n",
      "Epoch 51/1000\n",
      "240/240 [==============================] - 0s 1ms/step - loss: 0.3769 - accuracy: 0.8448 - val_loss: 0.3534 - val_accuracy: 0.8593\n",
      "Epoch 52/1000\n",
      "240/240 [==============================] - 0s 1ms/step - loss: 0.3824 - accuracy: 0.8422 - val_loss: 0.3583 - val_accuracy: 0.8523\n",
      "Epoch 53/1000\n",
      "240/240 [==============================] - 1s 2ms/step - loss: 0.3776 - accuracy: 0.8453 - val_loss: 0.3516 - val_accuracy: 0.8558\n",
      "Epoch 54/1000\n",
      "240/240 [==============================] - 0s 2ms/step - loss: 0.3772 - accuracy: 0.8453 - val_loss: 0.3536 - val_accuracy: 0.8546\n",
      "Epoch 55/1000\n",
      "240/240 [==============================] - 0s 1ms/step - loss: 0.3747 - accuracy: 0.8439 - val_loss: 0.3527 - val_accuracy: 0.8546\n",
      "Epoch 56/1000\n",
      "240/240 [==============================] - 0s 1ms/step - loss: 0.3780 - accuracy: 0.8428 - val_loss: 0.3566 - val_accuracy: 0.8535\n",
      "Epoch 57/1000\n",
      "240/240 [==============================] - 0s 1ms/step - loss: 0.3834 - accuracy: 0.8405 - val_loss: 0.3559 - val_accuracy: 0.8570\n",
      "Epoch 58/1000\n",
      "240/240 [==============================] - 0s 1ms/step - loss: 0.3855 - accuracy: 0.8415 - val_loss: 0.3564 - val_accuracy: 0.8546\n",
      "Epoch 59/1000\n",
      "240/240 [==============================] - 0s 1ms/step - loss: 0.3810 - accuracy: 0.8400 - val_loss: 0.3574 - val_accuracy: 0.8511\n",
      "Epoch 60/1000\n",
      "240/240 [==============================] - 0s 1ms/step - loss: 0.3781 - accuracy: 0.8453 - val_loss: 0.3522 - val_accuracy: 0.8546\n",
      "Epoch 61/1000\n",
      "240/240 [==============================] - 0s 1ms/step - loss: 0.3727 - accuracy: 0.8445 - val_loss: 0.3509 - val_accuracy: 0.8593\n",
      "Epoch 62/1000\n",
      "240/240 [==============================] - 0s 1ms/step - loss: 0.3748 - accuracy: 0.8443 - val_loss: 0.3521 - val_accuracy: 0.8511\n",
      "Epoch 63/1000\n",
      "240/240 [==============================] - 0s 1ms/step - loss: 0.3830 - accuracy: 0.8417 - val_loss: 0.3533 - val_accuracy: 0.8593\n",
      "Epoch 64/1000\n",
      "240/240 [==============================] - 0s 1ms/step - loss: 0.3761 - accuracy: 0.8394 - val_loss: 0.3531 - val_accuracy: 0.8570\n",
      "Epoch 65/1000\n",
      "240/240 [==============================] - 0s 1ms/step - loss: 0.3696 - accuracy: 0.8490 - val_loss: 0.3504 - val_accuracy: 0.8546\n",
      "Epoch 66/1000\n",
      "240/240 [==============================] - 0s 1ms/step - loss: 0.3761 - accuracy: 0.8428 - val_loss: 0.3544 - val_accuracy: 0.8593\n",
      "Epoch 67/1000\n",
      "240/240 [==============================] - 0s 1ms/step - loss: 0.3699 - accuracy: 0.8476 - val_loss: 0.3508 - val_accuracy: 0.8558\n",
      "Epoch 68/1000\n",
      "240/240 [==============================] - 0s 1ms/step - loss: 0.3774 - accuracy: 0.8397 - val_loss: 0.3525 - val_accuracy: 0.8605\n",
      "Epoch 69/1000\n",
      "240/240 [==============================] - 0s 1ms/step - loss: 0.3762 - accuracy: 0.8463 - val_loss: 0.3506 - val_accuracy: 0.8628\n",
      "Epoch 70/1000\n",
      "240/240 [==============================] - 0s 1ms/step - loss: 0.3805 - accuracy: 0.8432 - val_loss: 0.3536 - val_accuracy: 0.8523\n",
      "Epoch 71/1000\n",
      "240/240 [==============================] - 0s 1ms/step - loss: 0.3757 - accuracy: 0.8454 - val_loss: 0.3539 - val_accuracy: 0.8546\n",
      "Epoch 72/1000\n",
      "240/240 [==============================] - 0s 1ms/step - loss: 0.3780 - accuracy: 0.8415 - val_loss: 0.3493 - val_accuracy: 0.8535\n",
      "Epoch 73/1000\n",
      "240/240 [==============================] - 0s 1ms/step - loss: 0.3769 - accuracy: 0.8409 - val_loss: 0.3505 - val_accuracy: 0.8535\n",
      "Epoch 74/1000\n",
      "240/240 [==============================] - 0s 1ms/step - loss: 0.3696 - accuracy: 0.8454 - val_loss: 0.3489 - val_accuracy: 0.8570\n",
      "Epoch 75/1000\n",
      "240/240 [==============================] - 0s 1ms/step - loss: 0.3711 - accuracy: 0.8466 - val_loss: 0.3461 - val_accuracy: 0.8605\n",
      "Epoch 76/1000\n",
      "240/240 [==============================] - 0s 1ms/step - loss: 0.3694 - accuracy: 0.8471 - val_loss: 0.3464 - val_accuracy: 0.8558\n",
      "Epoch 77/1000\n",
      "240/240 [==============================] - 0s 1ms/step - loss: 0.3708 - accuracy: 0.8495 - val_loss: 0.3500 - val_accuracy: 0.8617\n",
      "Epoch 78/1000\n",
      "240/240 [==============================] - 0s 1ms/step - loss: 0.3706 - accuracy: 0.8452 - val_loss: 0.3491 - val_accuracy: 0.8617\n",
      "Epoch 79/1000\n",
      "240/240 [==============================] - 0s 1ms/step - loss: 0.3756 - accuracy: 0.8440 - val_loss: 0.3511 - val_accuracy: 0.8546\n",
      "Epoch 80/1000\n",
      "240/240 [==============================] - 0s 1ms/step - loss: 0.3674 - accuracy: 0.8497 - val_loss: 0.3457 - val_accuracy: 0.8535\n",
      "Epoch 81/1000\n",
      "240/240 [==============================] - 0s 1ms/step - loss: 0.3781 - accuracy: 0.8426 - val_loss: 0.3479 - val_accuracy: 0.8558\n",
      "Epoch 82/1000\n",
      "240/240 [==============================] - 0s 1ms/step - loss: 0.3668 - accuracy: 0.8467 - val_loss: 0.3488 - val_accuracy: 0.8593\n",
      "Epoch 83/1000\n",
      "240/240 [==============================] - 0s 1ms/step - loss: 0.3728 - accuracy: 0.8471 - val_loss: 0.3468 - val_accuracy: 0.8499\n",
      "Epoch 84/1000\n",
      "240/240 [==============================] - 0s 1ms/step - loss: 0.3725 - accuracy: 0.8486 - val_loss: 0.3481 - val_accuracy: 0.8570\n",
      "Epoch 85/1000\n",
      "240/240 [==============================] - 0s 1ms/step - loss: 0.3737 - accuracy: 0.8443 - val_loss: 0.3461 - val_accuracy: 0.8558\n",
      "Epoch 86/1000\n",
      "240/240 [==============================] - 0s 1ms/step - loss: 0.3769 - accuracy: 0.8435 - val_loss: 0.3456 - val_accuracy: 0.8617\n",
      "Epoch 87/1000\n",
      "240/240 [==============================] - 0s 1ms/step - loss: 0.3683 - accuracy: 0.8474 - val_loss: 0.3443 - val_accuracy: 0.8535\n",
      "Epoch 88/1000\n",
      "240/240 [==============================] - 0s 1ms/step - loss: 0.3691 - accuracy: 0.8509 - val_loss: 0.3435 - val_accuracy: 0.8593\n",
      "Epoch 89/1000\n",
      "240/240 [==============================] - 0s 1ms/step - loss: 0.3751 - accuracy: 0.8452 - val_loss: 0.3478 - val_accuracy: 0.8558\n",
      "Epoch 90/1000\n",
      "240/240 [==============================] - 0s 1ms/step - loss: 0.3741 - accuracy: 0.8450 - val_loss: 0.3470 - val_accuracy: 0.8558\n",
      "Epoch 91/1000\n",
      "240/240 [==============================] - 0s 1ms/step - loss: 0.3735 - accuracy: 0.8454 - val_loss: 0.3494 - val_accuracy: 0.8581\n",
      "Epoch 92/1000\n",
      "240/240 [==============================] - 0s 1ms/step - loss: 0.3681 - accuracy: 0.8487 - val_loss: 0.3440 - val_accuracy: 0.8593\n",
      "Epoch 93/1000\n",
      "240/240 [==============================] - 0s 1ms/step - loss: 0.3699 - accuracy: 0.8460 - val_loss: 0.3485 - val_accuracy: 0.8535\n",
      "Epoch 94/1000\n",
      "240/240 [==============================] - 0s 1ms/step - loss: 0.3704 - accuracy: 0.8491 - val_loss: 0.3421 - val_accuracy: 0.8628\n",
      "Epoch 95/1000\n",
      "240/240 [==============================] - 0s 1ms/step - loss: 0.3659 - accuracy: 0.8495 - val_loss: 0.3436 - val_accuracy: 0.8605\n",
      "Epoch 96/1000\n",
      "240/240 [==============================] - 0s 1ms/step - loss: 0.3614 - accuracy: 0.8487 - val_loss: 0.3438 - val_accuracy: 0.8605\n",
      "Epoch 97/1000\n",
      "240/240 [==============================] - 0s 1ms/step - loss: 0.3653 - accuracy: 0.8518 - val_loss: 0.3502 - val_accuracy: 0.8570\n",
      "Epoch 98/1000\n",
      "240/240 [==============================] - 0s 1ms/step - loss: 0.3670 - accuracy: 0.8431 - val_loss: 0.3454 - val_accuracy: 0.8558\n",
      "Epoch 99/1000\n",
      "240/240 [==============================] - 0s 1ms/step - loss: 0.3692 - accuracy: 0.8445 - val_loss: 0.3444 - val_accuracy: 0.8581\n",
      "Epoch 100/1000\n",
      "240/240 [==============================] - 0s 1ms/step - loss: 0.3720 - accuracy: 0.8476 - val_loss: 0.3469 - val_accuracy: 0.8558\n",
      "Epoch 101/1000\n",
      "240/240 [==============================] - 0s 1ms/step - loss: 0.3702 - accuracy: 0.8499 - val_loss: 0.3445 - val_accuracy: 0.8558\n",
      "Epoch 102/1000\n",
      "240/240 [==============================] - 0s 1ms/step - loss: 0.3700 - accuracy: 0.8479 - val_loss: 0.3441 - val_accuracy: 0.8535\n",
      "Epoch 103/1000\n",
      "240/240 [==============================] - 0s 1ms/step - loss: 0.3709 - accuracy: 0.8486 - val_loss: 0.3412 - val_accuracy: 0.8605\n",
      "Epoch 104/1000\n",
      "240/240 [==============================] - 0s 1ms/step - loss: 0.3721 - accuracy: 0.8450 - val_loss: 0.3438 - val_accuracy: 0.8605\n",
      "Epoch 105/1000\n",
      "240/240 [==============================] - 0s 1ms/step - loss: 0.3688 - accuracy: 0.8491 - val_loss: 0.3446 - val_accuracy: 0.8581\n",
      "Epoch 106/1000\n",
      "240/240 [==============================] - 0s 1ms/step - loss: 0.3720 - accuracy: 0.8522 - val_loss: 0.3425 - val_accuracy: 0.8617\n",
      "Epoch 107/1000\n",
      "240/240 [==============================] - 0s 1ms/step - loss: 0.3635 - accuracy: 0.8480 - val_loss: 0.3419 - val_accuracy: 0.8605\n",
      "Epoch 108/1000\n",
      "240/240 [==============================] - 0s 1ms/step - loss: 0.3674 - accuracy: 0.8501 - val_loss: 0.3421 - val_accuracy: 0.8605\n",
      "Epoch 109/1000\n",
      "240/240 [==============================] - 0s 1ms/step - loss: 0.3706 - accuracy: 0.8496 - val_loss: 0.3428 - val_accuracy: 0.8581\n",
      "Epoch 110/1000\n",
      "240/240 [==============================] - 0s 1ms/step - loss: 0.3662 - accuracy: 0.8486 - val_loss: 0.3455 - val_accuracy: 0.8511\n",
      "Epoch 111/1000\n",
      "240/240 [==============================] - 0s 1ms/step - loss: 0.3610 - accuracy: 0.8497 - val_loss: 0.3422 - val_accuracy: 0.8617\n",
      "Epoch 112/1000\n",
      "240/240 [==============================] - 0s 1ms/step - loss: 0.3682 - accuracy: 0.8470 - val_loss: 0.3413 - val_accuracy: 0.8617\n",
      "Epoch 113/1000\n",
      "240/240 [==============================] - 1s 2ms/step - loss: 0.3723 - accuracy: 0.8469 - val_loss: 0.3426 - val_accuracy: 0.8558\n",
      "Epoch 114/1000\n",
      "240/240 [==============================] - 0s 2ms/step - loss: 0.3670 - accuracy: 0.8490 - val_loss: 0.3476 - val_accuracy: 0.8617\n",
      "Epoch 115/1000\n",
      "240/240 [==============================] - 0s 1ms/step - loss: 0.3622 - accuracy: 0.8555 - val_loss: 0.3417 - val_accuracy: 0.8581\n",
      "Epoch 116/1000\n",
      "240/240 [==============================] - 0s 1ms/step - loss: 0.3670 - accuracy: 0.8476 - val_loss: 0.3440 - val_accuracy: 0.8628\n",
      "Epoch 117/1000\n",
      "240/240 [==============================] - 0s 1ms/step - loss: 0.3711 - accuracy: 0.8484 - val_loss: 0.3452 - val_accuracy: 0.8570\n",
      "Epoch 118/1000\n",
      "240/240 [==============================] - 0s 1ms/step - loss: 0.3737 - accuracy: 0.8480 - val_loss: 0.3438 - val_accuracy: 0.8617\n",
      "Epoch 00118: early stopping\n"
     ]
    },
    {
     "data": {
      "text/plain": [
       "<keras.callbacks.History at 0x1d992123910>"
      ]
     },
     "execution_count": 53,
     "metadata": {},
     "output_type": "execute_result"
    }
   ],
   "source": [
    "model.fit(x = X_train, y = y_train, validation_split = 0.1, batch_size = 32, epochs = 1000, verbose = 1, callbacks = [early_stop])"
   ]
  },
  {
   "cell_type": "code",
   "execution_count": 54,
   "metadata": {},
   "outputs": [
    {
     "name": "stdout",
     "output_type": "stream",
     "text": [
      "Model: \"sequential_2\"\n",
      "_________________________________________________________________\n",
      "Layer (type)                 Output Shape              Param #   \n",
      "=================================================================\n",
      "dense_6 (Dense)              (None, 30)                390       \n",
      "_________________________________________________________________\n",
      "dropout (Dropout)            (None, 30)                0         \n",
      "_________________________________________________________________\n",
      "dense_7 (Dense)              (None, 15)                465       \n",
      "_________________________________________________________________\n",
      "dropout_1 (Dropout)          (None, 15)                0         \n",
      "_________________________________________________________________\n",
      "dense_8 (Dense)              (None, 1)                 16        \n",
      "=================================================================\n",
      "Total params: 871\n",
      "Trainable params: 871\n",
      "Non-trainable params: 0\n",
      "_________________________________________________________________\n"
     ]
    }
   ],
   "source": [
    "model.summary()"
   ]
  },
  {
   "cell_type": "code",
   "execution_count": 55,
   "metadata": {},
   "outputs": [
    {
     "data": {
      "text/html": [
       "<div>\n",
       "<style scoped>\n",
       "    .dataframe tbody tr th:only-of-type {\n",
       "        vertical-align: middle;\n",
       "    }\n",
       "\n",
       "    .dataframe tbody tr th {\n",
       "        vertical-align: top;\n",
       "    }\n",
       "\n",
       "    .dataframe thead th {\n",
       "        text-align: right;\n",
       "    }\n",
       "</style>\n",
       "<table border=\"1\" class=\"dataframe\">\n",
       "  <thead>\n",
       "    <tr style=\"text-align: right;\">\n",
       "      <th></th>\n",
       "      <th>loss</th>\n",
       "      <th>accuracy</th>\n",
       "      <th>val_loss</th>\n",
       "      <th>val_accuracy</th>\n",
       "    </tr>\n",
       "  </thead>\n",
       "  <tbody>\n",
       "    <tr>\n",
       "      <th>0</th>\n",
       "      <td>0.627</td>\n",
       "      <td>0.693</td>\n",
       "      <td>0.497</td>\n",
       "      <td>0.796</td>\n",
       "    </tr>\n",
       "    <tr>\n",
       "      <th>1</th>\n",
       "      <td>0.523</td>\n",
       "      <td>0.800</td>\n",
       "      <td>0.477</td>\n",
       "      <td>0.796</td>\n",
       "    </tr>\n",
       "    <tr>\n",
       "      <th>2</th>\n",
       "      <td>0.492</td>\n",
       "      <td>0.800</td>\n",
       "      <td>0.467</td>\n",
       "      <td>0.796</td>\n",
       "    </tr>\n",
       "    <tr>\n",
       "      <th>3</th>\n",
       "      <td>0.483</td>\n",
       "      <td>0.802</td>\n",
       "      <td>0.460</td>\n",
       "      <td>0.796</td>\n",
       "    </tr>\n",
       "    <tr>\n",
       "      <th>4</th>\n",
       "      <td>0.472</td>\n",
       "      <td>0.804</td>\n",
       "      <td>0.453</td>\n",
       "      <td>0.796</td>\n",
       "    </tr>\n",
       "  </tbody>\n",
       "</table>\n",
       "</div>"
      ],
      "text/plain": [
       "   loss  accuracy  val_loss  val_accuracy\n",
       "0 0.627     0.693     0.497         0.796\n",
       "1 0.523     0.800     0.477         0.796\n",
       "2 0.492     0.800     0.467         0.796\n",
       "3 0.483     0.802     0.460         0.796\n",
       "4 0.472     0.804     0.453         0.796"
      ]
     },
     "execution_count": 55,
     "metadata": {},
     "output_type": "execute_result"
    }
   ],
   "source": [
    "loss_df = pd.DataFrame(model.history.history)\n",
    "loss_df.head()"
   ]
  },
  {
   "cell_type": "code",
   "execution_count": 56,
   "metadata": {
    "colab": {
     "base_uri": "https://localhost:8080/",
     "height": 283
    },
    "id": "LbnfsOY4yDVm",
    "outputId": "7ee5b9e1-bd35-40ab-f792-02f5d201f71d"
   },
   "outputs": [
    {
     "data": {
      "text/plain": [
       "<AxesSubplot:>"
      ]
     },
     "execution_count": 56,
     "metadata": {},
     "output_type": "execute_result"
    },
    {
     "data": {
      "image/png": "[encoded data removed]",
      "text/plain": [
       "<Figure size 864x432 with 1 Axes>"
      ]
     },
     "metadata": {},
     "output_type": "display_data"
    }
   ],
   "source": [
    "loss_df = pd.DataFrame(model.history.history)\n",
    "loss_df.plot()"
   ]
  },
  {
   "cell_type": "markdown",
   "metadata": {
    "id": "MYnzyEXkO3pj"
   },
   "source": [
    "#### Evaluate"
   ]
  },
  {
   "cell_type": "code",
   "execution_count": 57,
   "metadata": {
    "id": "e2vr2Rw3O3pj"
   },
   "outputs": [
    {
     "data": {
      "text/plain": [
       "[0.35758939385414124, 0.8512658476829529]"
      ]
     },
     "execution_count": 57,
     "metadata": {},
     "output_type": "execute_result"
    }
   ],
   "source": [
    "model.evaluate(X_test, y_test, verbose=0)"
   ]
  },
  {
   "cell_type": "code",
   "execution_count": 58,
   "metadata": {},
   "outputs": [
    {
     "name": "stdout",
     "output_type": "stream",
     "text": [
      "loss :  0.35758939385414124\n",
      "accuracy :  0.8512658476829529\n"
     ]
    }
   ],
   "source": [
    "loss, accuracy = model.evaluate(X_test, y_test, verbose=0)\n",
    "print(\"loss : \", loss)\n",
    "print(\"accuracy : \", accuracy)"
   ]
  },
  {
   "cell_type": "code",
   "execution_count": 59,
   "metadata": {},
   "outputs": [
    {
     "name": "stdout",
     "output_type": "stream",
     "text": [
      "[[731  28]\n",
      " [113  76]]\n",
      "              precision    recall  f1-score   support\n",
      "\n",
      "           0       0.87      0.96      0.91       759\n",
      "           1       0.73      0.40      0.52       189\n",
      "\n",
      "    accuracy                           0.85       948\n",
      "   macro avg       0.80      0.68      0.72       948\n",
      "weighted avg       0.84      0.85      0.83       948\n",
      "\n"
     ]
    }
   ],
   "source": [
    "y_pred = (model.predict(X_test) > 0.5).astype(\"int32\")\n",
    "print(confusion_matrix(y_test, y_pred))\n",
    "print(classification_report(y_test, y_pred))"
   ]
  },
  {
   "cell_type": "markdown",
   "metadata": {
    "id": "qm8PPTt8O3pk"
   },
   "source": [
    "### with class_weigth\n",
    "\n",
    "Investigate how the \"class_weight\" hyper-parameter is used in a Neural Network."
   ]
  },
  {
   "cell_type": "code",
   "execution_count": 60,
   "metadata": {},
   "outputs": [],
   "source": [
    "from sklearn.utils import class_weight"
   ]
  },
  {
   "cell_type": "code",
   "execution_count": 61,
   "metadata": {},
   "outputs": [],
   "source": [
    "class_weight = class_weight.compute_class_weight('balanced', np.unique(y_train), y_train)"
   ]
  },
  {
   "cell_type": "code",
   "execution_count": 62,
   "metadata": {},
   "outputs": [
    {
     "data": {
      "text/plain": [
       "array([0.62461538, 2.50617284])"
      ]
     },
     "execution_count": 62,
     "metadata": {},
     "output_type": "execute_result"
    }
   ],
   "source": [
    "class_weight"
   ]
  },
  {
   "cell_type": "code",
   "execution_count": 63,
   "metadata": {},
   "outputs": [
    {
     "data": {
      "text/plain": [
       "0.6246153846153846"
      ]
     },
     "execution_count": 63,
     "metadata": {},
     "output_type": "execute_result"
    }
   ],
   "source": [
    "class_weight[0]"
   ]
  },
  {
   "cell_type": "code",
   "execution_count": 64,
   "metadata": {
    "id": "rjs0OAMcO3pi"
   },
   "outputs": [],
   "source": [
    "model_weighted = Sequential()\n",
    "\n",
    "model_weighted.add(Dense(32, activation = \"relu\"))\n",
    "model_weighted.add(Dense(16, activation = \"relu\"))\n",
    "model_weighted.add(Dense(1, activation = \"sigmoid\"))\n",
    "\n",
    "model_weighted.compile(optimizer = \"adam\", loss = \"binary_crossentropy\", metrics = [\"accuracy\"])"
   ]
  },
  {
   "cell_type": "code",
   "execution_count": 65,
   "metadata": {},
   "outputs": [],
   "source": [
    "early_stop = EarlyStopping(monitor = \"val_loss\", mode = \"auto\", verbose = 1, patience = 15)"
   ]
  },
  {
   "cell_type": "code",
   "execution_count": 66,
   "metadata": {},
   "outputs": [],
   "source": [
    "class_weight = {0: class_weight[0], 1:class_weight[1]}"
   ]
  },
  {
   "cell_type": "code",
   "execution_count": 67,
   "metadata": {},
   "outputs": [
    {
     "data": {
      "text/plain": [
       "{0: 0.6246153846153846, 1: 2.506172839506173}"
      ]
     },
     "execution_count": 67,
     "metadata": {},
     "output_type": "execute_result"
    }
   ],
   "source": [
    "class_weight"
   ]
  },
  {
   "cell_type": "code",
   "execution_count": 68,
   "metadata": {},
   "outputs": [
    {
     "name": "stdout",
     "output_type": "stream",
     "text": [
      "Epoch 1/1000\n",
      "240/240 [==============================] - 1s 2ms/step - loss: 0.6496 - accuracy: 0.6016 - val_loss: 0.5962 - val_accuracy: 0.6975\n",
      "Epoch 2/1000\n",
      "240/240 [==============================] - 0s 1ms/step - loss: 0.5772 - accuracy: 0.7026 - val_loss: 0.6445 - val_accuracy: 0.6319\n",
      "Epoch 3/1000\n",
      "240/240 [==============================] - 0s 1ms/step - loss: 0.5565 - accuracy: 0.7137 - val_loss: 0.5509 - val_accuracy: 0.7151\n",
      "Epoch 4/1000\n",
      "240/240 [==============================] - 0s 1ms/step - loss: 0.5408 - accuracy: 0.7271 - val_loss: 0.5351 - val_accuracy: 0.7292\n",
      "Epoch 5/1000\n",
      "240/240 [==============================] - 0s 2ms/step - loss: 0.5268 - accuracy: 0.7477 - val_loss: 0.5829 - val_accuracy: 0.6917\n",
      "Epoch 6/1000\n",
      "240/240 [==============================] - 0s 1ms/step - loss: 0.5135 - accuracy: 0.7615 - val_loss: 0.4904 - val_accuracy: 0.7691\n",
      "Epoch 7/1000\n",
      "240/240 [==============================] - 0s 1ms/step - loss: 0.5002 - accuracy: 0.7662 - val_loss: 0.4723 - val_accuracy: 0.7773\n",
      "Epoch 8/1000\n",
      "240/240 [==============================] - 0s 1ms/step - loss: 0.4907 - accuracy: 0.7722 - val_loss: 0.5791 - val_accuracy: 0.6964\n",
      "Epoch 9/1000\n",
      "240/240 [==============================] - 0s 1ms/step - loss: 0.4826 - accuracy: 0.7752 - val_loss: 0.4423 - val_accuracy: 0.7948\n",
      "Epoch 10/1000\n",
      "240/240 [==============================] - 0s 1ms/step - loss: 0.4772 - accuracy: 0.7803 - val_loss: 0.4594 - val_accuracy: 0.7866\n",
      "Epoch 11/1000\n",
      "240/240 [==============================] - 0s 1ms/step - loss: 0.4736 - accuracy: 0.7817 - val_loss: 0.5219 - val_accuracy: 0.7362\n",
      "Epoch 12/1000\n",
      "240/240 [==============================] - 0s 1ms/step - loss: 0.4697 - accuracy: 0.7790 - val_loss: 0.5800 - val_accuracy: 0.7022\n",
      "Epoch 13/1000\n",
      "240/240 [==============================] - 0s 1ms/step - loss: 0.4675 - accuracy: 0.7788 - val_loss: 0.4636 - val_accuracy: 0.7784\n",
      "Epoch 14/1000\n",
      "240/240 [==============================] - 0s 2ms/step - loss: 0.4655 - accuracy: 0.7827 - val_loss: 0.4833 - val_accuracy: 0.7644\n",
      "Epoch 15/1000\n",
      "240/240 [==============================] - 0s 1ms/step - loss: 0.4646 - accuracy: 0.7803 - val_loss: 0.5064 - val_accuracy: 0.7421\n",
      "Epoch 16/1000\n",
      "240/240 [==============================] - 0s 1ms/step - loss: 0.4625 - accuracy: 0.7855 - val_loss: 0.4705 - val_accuracy: 0.7737\n",
      "Epoch 17/1000\n",
      "240/240 [==============================] - 0s 1ms/step - loss: 0.4607 - accuracy: 0.7876 - val_loss: 0.4398 - val_accuracy: 0.7972\n",
      "Epoch 18/1000\n",
      "240/240 [==============================] - 0s 1ms/step - loss: 0.4617 - accuracy: 0.7852 - val_loss: 0.5049 - val_accuracy: 0.7479\n",
      "Epoch 19/1000\n",
      "240/240 [==============================] - 0s 1ms/step - loss: 0.4586 - accuracy: 0.7838 - val_loss: 0.5396 - val_accuracy: 0.7163\n",
      "Epoch 20/1000\n",
      "240/240 [==============================] - 0s 1ms/step - loss: 0.4597 - accuracy: 0.7831 - val_loss: 0.4551 - val_accuracy: 0.7913\n",
      "Epoch 21/1000\n",
      "240/240 [==============================] - 0s 1ms/step - loss: 0.4579 - accuracy: 0.7854 - val_loss: 0.4734 - val_accuracy: 0.7737\n",
      "Epoch 22/1000\n",
      "240/240 [==============================] - 0s 1ms/step - loss: 0.4570 - accuracy: 0.7867 - val_loss: 0.4411 - val_accuracy: 0.7866\n",
      "Epoch 23/1000\n",
      "240/240 [==============================] - 0s 1ms/step - loss: 0.4552 - accuracy: 0.7864 - val_loss: 0.5046 - val_accuracy: 0.7444\n",
      "Epoch 24/1000\n",
      "240/240 [==============================] - 0s 1ms/step - loss: 0.4545 - accuracy: 0.7874 - val_loss: 0.5088 - val_accuracy: 0.7456\n",
      "Epoch 25/1000\n",
      "240/240 [==============================] - 0s 1ms/step - loss: 0.4549 - accuracy: 0.7893 - val_loss: 0.4694 - val_accuracy: 0.7796\n",
      "Epoch 26/1000\n",
      "240/240 [==============================] - 0s 1ms/step - loss: 0.4547 - accuracy: 0.7878 - val_loss: 0.4438 - val_accuracy: 0.7995\n",
      "Epoch 27/1000\n",
      "240/240 [==============================] - 0s 1ms/step - loss: 0.4534 - accuracy: 0.7916 - val_loss: 0.4745 - val_accuracy: 0.7714\n",
      "Epoch 28/1000\n",
      "240/240 [==============================] - 0s 1ms/step - loss: 0.4540 - accuracy: 0.7885 - val_loss: 0.4844 - val_accuracy: 0.7691\n",
      "Epoch 29/1000\n",
      "240/240 [==============================] - 0s 1ms/step - loss: 0.4520 - accuracy: 0.7923 - val_loss: 0.4800 - val_accuracy: 0.7691\n",
      "Epoch 30/1000\n",
      "240/240 [==============================] - 0s 1ms/step - loss: 0.4525 - accuracy: 0.7864 - val_loss: 0.5084 - val_accuracy: 0.7421\n",
      "Epoch 31/1000\n",
      "240/240 [==============================] - 0s 1ms/step - loss: 0.4526 - accuracy: 0.7902 - val_loss: 0.4493 - val_accuracy: 0.7937\n",
      "Epoch 32/1000\n",
      "240/240 [==============================] - 0s 1ms/step - loss: 0.4507 - accuracy: 0.7912 - val_loss: 0.5439 - val_accuracy: 0.7175\n",
      "Epoch 00032: early stopping\n"
     ]
    },
    {
     "data": {
      "text/plain": [
       "<keras.callbacks.History at 0x1d993386430>"
      ]
     },
     "execution_count": 68,
     "metadata": {},
     "output_type": "execute_result"
    }
   ],
   "source": [
    "model_weighted.fit(x = X_train, y = y_train, validation_split = 0.1, batch_size = 32, epochs = 1000, verbose = 1,\n",
    "          callbacks = [early_stop], class_weight = class_weight)"
   ]
  },
  {
   "cell_type": "code",
   "execution_count": 69,
   "metadata": {},
   "outputs": [
    {
     "name": "stdout",
     "output_type": "stream",
     "text": [
      "Model: \"sequential_3\"\n",
      "_________________________________________________________________\n",
      "Layer (type)                 Output Shape              Param #   \n",
      "=================================================================\n",
      "dense_9 (Dense)              (None, 32)                416       \n",
      "_________________________________________________________________\n",
      "dense_10 (Dense)             (None, 16)                528       \n",
      "_________________________________________________________________\n",
      "dense_11 (Dense)             (None, 1)                 17        \n",
      "=================================================================\n",
      "Total params: 961\n",
      "Trainable params: 961\n",
      "Non-trainable params: 0\n",
      "_________________________________________________________________\n"
     ]
    }
   ],
   "source": [
    "model_weighted.summary()"
   ]
  },
  {
   "cell_type": "code",
   "execution_count": 70,
   "metadata": {},
   "outputs": [
    {
     "data": {
      "text/html": [
       "<div>\n",
       "<style scoped>\n",
       "    .dataframe tbody tr th:only-of-type {\n",
       "        vertical-align: middle;\n",
       "    }\n",
       "\n",
       "    .dataframe tbody tr th {\n",
       "        vertical-align: top;\n",
       "    }\n",
       "\n",
       "    .dataframe thead th {\n",
       "        text-align: right;\n",
       "    }\n",
       "</style>\n",
       "<table border=\"1\" class=\"dataframe\">\n",
       "  <thead>\n",
       "    <tr style=\"text-align: right;\">\n",
       "      <th></th>\n",
       "      <th>loss</th>\n",
       "      <th>accuracy</th>\n",
       "      <th>val_loss</th>\n",
       "      <th>val_accuracy</th>\n",
       "    </tr>\n",
       "  </thead>\n",
       "  <tbody>\n",
       "    <tr>\n",
       "      <th>0</th>\n",
       "      <td>0.650</td>\n",
       "      <td>0.602</td>\n",
       "      <td>0.596</td>\n",
       "      <td>0.698</td>\n",
       "    </tr>\n",
       "    <tr>\n",
       "      <th>1</th>\n",
       "      <td>0.577</td>\n",
       "      <td>0.703</td>\n",
       "      <td>0.644</td>\n",
       "      <td>0.632</td>\n",
       "    </tr>\n",
       "    <tr>\n",
       "      <th>2</th>\n",
       "      <td>0.557</td>\n",
       "      <td>0.714</td>\n",
       "      <td>0.551</td>\n",
       "      <td>0.715</td>\n",
       "    </tr>\n",
       "    <tr>\n",
       "      <th>3</th>\n",
       "      <td>0.541</td>\n",
       "      <td>0.727</td>\n",
       "      <td>0.535</td>\n",
       "      <td>0.729</td>\n",
       "    </tr>\n",
       "    <tr>\n",
       "      <th>4</th>\n",
       "      <td>0.527</td>\n",
       "      <td>0.748</td>\n",
       "      <td>0.583</td>\n",
       "      <td>0.692</td>\n",
       "    </tr>\n",
       "  </tbody>\n",
       "</table>\n",
       "</div>"
      ],
      "text/plain": [
       "   loss  accuracy  val_loss  val_accuracy\n",
       "0 0.650     0.602     0.596         0.698\n",
       "1 0.577     0.703     0.644         0.632\n",
       "2 0.557     0.714     0.551         0.715\n",
       "3 0.541     0.727     0.535         0.729\n",
       "4 0.527     0.748     0.583         0.692"
      ]
     },
     "execution_count": 70,
     "metadata": {},
     "output_type": "execute_result"
    }
   ],
   "source": [
    "loss_df = pd.DataFrame(model_weighted.history.history)\n",
    "loss_df.head()"
   ]
  },
  {
   "cell_type": "code",
   "execution_count": 71,
   "metadata": {
    "colab": {
     "base_uri": "https://localhost:8080/",
     "height": 283
    },
    "id": "LbnfsOY4yDVm",
    "outputId": "7ee5b9e1-bd35-40ab-f792-02f5d201f71d"
   },
   "outputs": [
    {
     "data": {
      "text/plain": [
       "<AxesSubplot:>"
      ]
     },
     "execution_count": 71,
     "metadata": {},
     "output_type": "execute_result"
    },
    {
     "data": {
      "image/png": "[encoded data removed]",
      "text/plain": [
       "<Figure size 864x432 with 1 Axes>"
      ]
     },
     "metadata": {},
     "output_type": "display_data"
    }
   ],
   "source": [
    "loss_df = pd.DataFrame(model_weighted.history.history)\n",
    "loss_df.plot()"
   ]
  },
  {
   "cell_type": "markdown",
   "metadata": {
    "id": "0qxyiYCzO3pl"
   },
   "source": [
    "#### Evaluate"
   ]
  },
  {
   "cell_type": "code",
   "execution_count": 209,
   "metadata": {
    "id": "ttk94Oh1O3pm"
   },
   "outputs": [
    {
     "data": {
      "text/plain": [
       "[0.5154175162315369, 0.7426160573959351]"
      ]
     },
     "execution_count": 209,
     "metadata": {},
     "output_type": "execute_result"
    }
   ],
   "source": [
    "model_weighted.evaluate(X_test, y_test, verbose=0)"
   ]
  },
  {
   "cell_type": "code",
   "execution_count": 72,
   "metadata": {},
   "outputs": [
    {
     "name": "stdout",
     "output_type": "stream",
     "text": [
      "loss :  0.5746896266937256\n",
      "accuracy :  0.7109704613685608\n"
     ]
    }
   ],
   "source": [
    "loss, accuracy = model_weighted.evaluate(X_test, y_test, verbose=0)\n",
    "print(\"loss : \", loss)\n",
    "print(\"accuracy : \", accuracy)"
   ]
  },
  {
   "cell_type": "code",
   "execution_count": 73,
   "metadata": {
    "colab": {
     "base_uri": "https://localhost:8080/"
    },
    "id": "SD6cr4-4yDVm",
    "outputId": "d78f6c6d-6f72-4324-dd49-a313d6091ca7"
   },
   "outputs": [
    {
     "name": "stdout",
     "output_type": "stream",
     "text": [
      "[[520 239]\n",
      " [ 35 154]]\n",
      "              precision    recall  f1-score   support\n",
      "\n",
      "           0       0.94      0.69      0.79       759\n",
      "           1       0.39      0.81      0.53       189\n",
      "\n",
      "    accuracy                           0.71       948\n",
      "   macro avg       0.66      0.75      0.66       948\n",
      "weighted avg       0.83      0.71      0.74       948\n",
      "\n"
     ]
    }
   ],
   "source": [
    "y_pred = (model_weighted.predict(X_test) > 0.5).astype(\"int32\")\n",
    "print(confusion_matrix(y_test, y_pred))\n",
    "print(classification_report(y_test, y_pred))"
   ]
  },
  {
   "cell_type": "markdown",
   "metadata": {
    "id": "kI-npay9O3pm"
   },
   "source": [
    "## GridSearchCV"
   ]
  },
  {
   "cell_type": "code",
   "execution_count": 80,
   "metadata": {
    "id": "XPoGIihqyDVn"
   },
   "outputs": [],
   "source": [
    "def build_classifier(optimizer):\n",
    "    classifier = Sequential()\n",
    "    classifier.add(Dense(units = 30, activation = 'relu'))\n",
    "    classifier.add(Dense(units = 15, activation = 'relu'))\n",
    "    classifier.add(Dense(units = 1, activation = 'sigmoid'))\n",
    "    classifier.compile(optimizer = optimizer, loss = 'binary_crossentropy', metrics = ['accuracy'])\n",
    "    return classifier"
   ]
  },
  {
   "cell_type": "code",
   "execution_count": 81,
   "metadata": {
    "id": "LhL6FZa5yDVn"
   },
   "outputs": [],
   "source": [
    "early_stop = EarlyStopping(monitor = \"accuracy\", mode = \"auto\", verbose = 1, patience = 15)"
   ]
  },
  {
   "cell_type": "code",
   "execution_count": 82,
   "metadata": {
    "colab": {
     "base_uri": "https://localhost:8080/"
    },
    "id": "f1DlrKqkyDVn",
    "outputId": "b0d790eb-e97a-431b-de6c-366363cfa735"
   },
   "outputs": [
    {
     "name": "stdout",
     "output_type": "stream",
     "text": [
      "Fitting 10 folds for each of 10 candidates, totalling 100 fits\n",
      "Epoch 1/200\n",
      "134/134 [==============================] - 1s 2ms/step - loss: 0.4954 - accuracy: 0.8005\n",
      "Epoch 2/200\n",
      "134/134 [==============================] - 0s 2ms/step - loss: 0.4585 - accuracy: 0.8044\n",
      "Epoch 3/200\n",
      "134/134 [==============================] - 0s 1ms/step - loss: 0.4408 - accuracy: 0.8130\n",
      "Epoch 4/200\n",
      "134/134 [==============================] - 0s 2ms/step - loss: 0.4250 - accuracy: 0.8193\n",
      "Epoch 5/200\n",
      "134/134 [==============================] - 0s 2ms/step - loss: 0.4139 - accuracy: 0.8243\n",
      "Epoch 6/200\n",
      "134/134 [==============================] - 0s 1ms/step - loss: 0.4079 - accuracy: 0.8261\n",
      "Epoch 7/200\n",
      "134/134 [==============================] - 0s 2ms/step - loss: 0.4052 - accuracy: 0.8275\n",
      "Epoch 8/200\n",
      "134/134 [==============================] - 0s 2ms/step - loss: 0.4032 - accuracy: 0.8306\n",
      "Epoch 9/200\n",
      "134/134 [==============================] - 0s 2ms/step - loss: 0.4021 - accuracy: 0.8304\n",
      "Epoch 10/200\n",
      "134/134 [==============================] - 0s 1ms/step - loss: 0.4014 - accuracy: 0.8323\n",
      "Epoch 11/200\n",
      "134/134 [==============================] - 0s 2ms/step - loss: 0.4013 - accuracy: 0.8320\n",
      "Epoch 12/200\n",
      "134/134 [==============================] - 0s 2ms/step - loss: 0.4002 - accuracy: 0.8320\n",
      "Epoch 13/200\n",
      "134/134 [==============================] - 0s 1ms/step - loss: 0.3988 - accuracy: 0.8316\n",
      "Epoch 14/200\n",
      "134/134 [==============================] - 0s 2ms/step - loss: 0.3995 - accuracy: 0.8316\n",
      "Epoch 15/200\n",
      "134/134 [==============================] - 0s 2ms/step - loss: 0.3986 - accuracy: 0.8332\n",
      "Epoch 16/200\n",
      "134/134 [==============================] - 0s 1ms/step - loss: 0.3978 - accuracy: 0.8340\n",
      "Epoch 17/200\n",
      "134/134 [==============================] - 0s 2ms/step - loss: 0.3973 - accuracy: 0.8342\n",
      "Epoch 18/200\n",
      "134/134 [==============================] - 0s 2ms/step - loss: 0.3961 - accuracy: 0.8354\n",
      "Epoch 19/200\n",
      "134/134 [==============================] - 0s 2ms/step - loss: 0.3947 - accuracy: 0.8350\n",
      "Epoch 20/200\n",
      "134/134 [==============================] - 0s 1ms/step - loss: 0.3936 - accuracy: 0.8350\n",
      "Epoch 21/200\n",
      "134/134 [==============================] - 0s 2ms/step - loss: 0.3911 - accuracy: 0.8383\n",
      "Epoch 22/200\n",
      "134/134 [==============================] - 0s 2ms/step - loss: 0.3892 - accuracy: 0.8366\n",
      "Epoch 23/200\n",
      "134/134 [==============================] - 0s 1ms/step - loss: 0.3857 - accuracy: 0.8387\n",
      "Epoch 24/200\n",
      "134/134 [==============================] - 0s 1ms/step - loss: 0.3823 - accuracy: 0.8381\n",
      "Epoch 25/200\n",
      "134/134 [==============================] - 0s 2ms/step - loss: 0.3777 - accuracy: 0.8419\n",
      "Epoch 26/200\n",
      "134/134 [==============================] - 0s 2ms/step - loss: 0.3738 - accuracy: 0.8455\n",
      "Epoch 27/200\n",
      "134/134 [==============================] - 0s 1ms/step - loss: 0.3688 - accuracy: 0.8471\n",
      "Epoch 28/200\n",
      "134/134 [==============================] - 0s 2ms/step - loss: 0.3635 - accuracy: 0.8501\n",
      "Epoch 29/200\n",
      "134/134 [==============================] - 0s 2ms/step - loss: 0.3588 - accuracy: 0.8510\n",
      "Epoch 30/200\n",
      "134/134 [==============================] - 0s 1ms/step - loss: 0.3556 - accuracy: 0.8505\n",
      "Epoch 31/200\n",
      "134/134 [==============================] - 0s 2ms/step - loss: 0.3508 - accuracy: 0.8541\n",
      "Epoch 32/200\n",
      "134/134 [==============================] - 0s 2ms/step - loss: 0.3480 - accuracy: 0.8547\n",
      "Epoch 33/200\n",
      "134/134 [==============================] - 0s 1ms/step - loss: 0.3444 - accuracy: 0.8574\n",
      "Epoch 34/200\n",
      "134/134 [==============================] - 0s 1ms/step - loss: 0.3425 - accuracy: 0.8597\n",
      "Epoch 35/200\n",
      "134/134 [==============================] - 0s 2ms/step - loss: 0.3399 - accuracy: 0.8595\n",
      "Epoch 36/200\n",
      "134/134 [==============================] - 0s 2ms/step - loss: 0.3382 - accuracy: 0.8620\n",
      "Epoch 37/200\n",
      "134/134 [==============================] - 0s 1ms/step - loss: 0.3368 - accuracy: 0.8625\n",
      "Epoch 38/200\n",
      "134/134 [==============================] - 0s 2ms/step - loss: 0.3362 - accuracy: 0.8596\n",
      "Epoch 39/200\n",
      "134/134 [==============================] - 0s 2ms/step - loss: 0.3350 - accuracy: 0.8643\n",
      "Epoch 40/200\n",
      "134/134 [==============================] - 0s 1ms/step - loss: 0.3337 - accuracy: 0.8649\n",
      "Epoch 41/200\n",
      "134/134 [==============================] - 0s 1ms/step - loss: 0.3340 - accuracy: 0.8627\n",
      "Epoch 42/200\n",
      "134/134 [==============================] - 0s 2ms/step - loss: 0.3341 - accuracy: 0.8635\n",
      "Epoch 43/200\n",
      "134/134 [==============================] - 0s 2ms/step - loss: 0.3332 - accuracy: 0.8630\n",
      "Epoch 44/200\n",
      "134/134 [==============================] - 0s 1ms/step - loss: 0.3331 - accuracy: 0.8648\n",
      "Epoch 45/200\n",
      "134/134 [==============================] - 0s 2ms/step - loss: 0.3323 - accuracy: 0.8630\n",
      "Epoch 46/200\n",
      "134/134 [==============================] - 0s 2ms/step - loss: 0.3325 - accuracy: 0.8637\n",
      "Epoch 47/200\n",
      "134/134 [==============================] - 0s 1ms/step - loss: 0.3317 - accuracy: 0.8632\n",
      "Epoch 48/200\n",
      "134/134 [==============================] - 0s 1ms/step - loss: 0.3313 - accuracy: 0.8630\n",
      "Epoch 49/200\n",
      "134/134 [==============================] - 0s 2ms/step - loss: 0.3327 - accuracy: 0.8635\n",
      "Epoch 50/200\n",
      "134/134 [==============================] - 0s 2ms/step - loss: 0.3319 - accuracy: 0.8635\n",
      "Epoch 51/200\n",
      "134/134 [==============================] - 0s 1ms/step - loss: 0.3311 - accuracy: 0.8635\n",
      "Epoch 52/200\n",
      "134/134 [==============================] - 0s 2ms/step - loss: 0.3311 - accuracy: 0.8638\n",
      "Epoch 53/200\n",
      "134/134 [==============================] - 0s 2ms/step - loss: 0.3309 - accuracy: 0.8655\n",
      "Epoch 54/200\n",
      "134/134 [==============================] - 0s 1ms/step - loss: 0.3310 - accuracy: 0.8635\n",
      "Epoch 55/200\n",
      "134/134 [==============================] - 0s 1ms/step - loss: 0.3314 - accuracy: 0.8634\n",
      "Epoch 56/200\n",
      "134/134 [==============================] - 0s 2ms/step - loss: 0.3311 - accuracy: 0.8609\n",
      "Epoch 57/200\n",
      "134/134 [==============================] - 0s 2ms/step - loss: 0.3304 - accuracy: 0.8659\n",
      "Epoch 58/200\n",
      "134/134 [==============================] - 0s 1ms/step - loss: 0.3297 - accuracy: 0.8658\n",
      "Epoch 59/200\n",
      "134/134 [==============================] - 0s 2ms/step - loss: 0.3311 - accuracy: 0.8648\n",
      "Epoch 60/200\n",
      "134/134 [==============================] - 0s 2ms/step - loss: 0.3306 - accuracy: 0.8638\n",
      "Epoch 61/200\n",
      "134/134 [==============================] - 0s 1ms/step - loss: 0.3301 - accuracy: 0.8648\n",
      "Epoch 62/200\n",
      "134/134 [==============================] - 0s 1ms/step - loss: 0.3306 - accuracy: 0.8634\n",
      "Epoch 63/200\n",
      "134/134 [==============================] - 0s 2ms/step - loss: 0.3299 - accuracy: 0.8651\n",
      "Epoch 64/200\n",
      "134/134 [==============================] - 0s 2ms/step - loss: 0.3298 - accuracy: 0.8646\n",
      "Epoch 65/200\n",
      "134/134 [==============================] - 0s 1ms/step - loss: 0.3300 - accuracy: 0.8631\n",
      "Epoch 66/200\n",
      "134/134 [==============================] - 0s 2ms/step - loss: 0.3298 - accuracy: 0.8644\n",
      "Epoch 67/200\n",
      "134/134 [==============================] - 0s 2ms/step - loss: 0.3297 - accuracy: 0.8637\n",
      "Epoch 68/200\n",
      "134/134 [==============================] - 0s 1ms/step - loss: 0.3302 - accuracy: 0.8637\n",
      "Epoch 69/200\n",
      "134/134 [==============================] - 0s 1ms/step - loss: 0.3292 - accuracy: 0.8631\n",
      "Epoch 70/200\n",
      "134/134 [==============================] - 0s 2ms/step - loss: 0.3288 - accuracy: 0.8646\n",
      "Epoch 71/200\n",
      "134/134 [==============================] - 0s 2ms/step - loss: 0.3296 - accuracy: 0.8643\n",
      "Epoch 72/200\n",
      "134/134 [==============================] - 0s 1ms/step - loss: 0.3292 - accuracy: 0.8630\n",
      "Epoch 00072: early stopping\n"
     ]
    },
    {
     "data": {
      "text/plain": [
       "GridSearchCV(cv=10,\n",
       "             estimator=<keras.wrappers.scikit_learn.KerasClassifier object at 0x000001D994633CA0>,\n",
       "             n_jobs=-1,\n",
       "             param_grid={'batch_size': [32, 64],\n",
       "                         'optimizer': ['adam', 'rmsprop', 'SGD', 'adagrad',\n",
       "                                       'adadelta']},\n",
       "             scoring='accuracy', verbose=1)"
      ]
     },
     "execution_count": 82,
     "metadata": {},
     "output_type": "execute_result"
    }
   ],
   "source": [
    "classifier = KerasClassifier(build_fn = build_classifier, epochs = 200)\n",
    "parameters = {'batch_size': [32, 64],\n",
    "              'optimizer': ['adam', 'rmsprop', \"SGD\", \"adagrad\", \"adadelta\"]}\n",
    "grid_model = GridSearchCV(estimator = classifier,\n",
    "                          param_grid = parameters,\n",
    "                          scoring = 'accuracy',\n",
    "                          cv = 10,\n",
    "                          n_jobs = -1,\n",
    "                          verbose = 1)\n",
    "grid_model.fit(X_train, y_train, callbacks = [early_stop])"
   ]
  },
  {
   "cell_type": "code",
   "execution_count": 83,
   "metadata": {
    "colab": {
     "base_uri": "https://localhost:8080/"
    },
    "id": "9PbSgMzMyDVo",
    "outputId": "20f4ed11-2e46-489a-c3b1-867a362684e2"
   },
   "outputs": [
    {
     "data": {
      "text/plain": [
       "0.8592541375647397"
      ]
     },
     "execution_count": 83,
     "metadata": {},
     "output_type": "execute_result"
    }
   ],
   "source": [
    "grid_model.best_score_"
   ]
  },
  {
   "cell_type": "code",
   "execution_count": 84,
   "metadata": {
    "colab": {
     "base_uri": "https://localhost:8080/"
    },
    "id": "WF1oy6h-yDVo",
    "outputId": "947177fd-f63f-4ddf-e0ce-ff91b6fa31dc"
   },
   "outputs": [
    {
     "data": {
      "text/plain": [
       "{'batch_size': 64, 'optimizer': 'rmsprop'}"
      ]
     },
     "execution_count": 84,
     "metadata": {},
     "output_type": "execute_result"
    }
   ],
   "source": [
    "grid_model.best_params_"
   ]
  },
  {
   "cell_type": "markdown",
   "metadata": {
    "id": "FUhATicMO3pn"
   },
   "source": [
    "#### Evaluate"
   ]
  },
  {
   "cell_type": "markdown",
   "metadata": {},
   "source": [
    "***ROC (Receiver Operating Curve) and AUC (Area Under Curve)*** \n",
    "***for keras_model***"
   ]
  },
  {
   "cell_type": "code",
   "execution_count": 85,
   "metadata": {
    "id": "SDN_dXjIO3pn"
   },
   "outputs": [
    {
     "data": {
      "image/png": "[encoded data removed]",
      "text/plain": [
       "<Figure size 864x432 with 1 Axes>"
      ]
     },
     "metadata": {},
     "output_type": "display_data"
    }
   ],
   "source": [
    "y_pred_proba = model.predict(X_test)\n",
    "fpr, tpr, thresholds = roc_curve(y_test, y_pred_proba)\n",
    "plt.plot([0,1],[0,1],'k--')\n",
    "plt.plot(fpr,tpr, label='ANN')\n",
    "plt.xlabel('False Positive Rate')\n",
    "plt.ylabel('True Positive Rate')\n",
    "plt.title('ROC Curve for Keras Model')\n",
    "plt.show()"
   ]
  },
  {
   "cell_type": "code",
   "execution_count": 86,
   "metadata": {},
   "outputs": [
    {
     "data": {
      "text/plain": [
       "0.8373730402715909"
      ]
     },
     "execution_count": 86,
     "metadata": {},
     "output_type": "execute_result"
    }
   ],
   "source": [
    "roc_auc_score(y_test, y_pred_proba)"
   ]
  },
  {
   "cell_type": "markdown",
   "metadata": {},
   "source": [
    "***for keras_model_weighted***"
   ]
  },
  {
   "cell_type": "code",
   "execution_count": 87,
   "metadata": {},
   "outputs": [
    {
     "data": {
      "image/png": "[encoded data removed]",
      "text/plain": [
       "<Figure size 864x432 with 1 Axes>"
      ]
     },
     "metadata": {},
     "output_type": "display_data"
    }
   ],
   "source": [
    "y_pred_proba = model_weighted.predict(X_test)\n",
    "fpr, tpr, thresholds = roc_curve(y_test, y_pred_proba)\n",
    "plt.plot([0,1],[0,1],'k--')\n",
    "plt.plot(fpr,tpr, label='ANN')\n",
    "plt.xlabel('False Positive Rate')\n",
    "plt.ylabel('True Positive Rate')\n",
    "plt.title('ROC Curve for Keras Model_Weighted')\n",
    "plt.show()"
   ]
  },
  {
   "cell_type": "code",
   "execution_count": 88,
   "metadata": {},
   "outputs": [
    {
     "data": {
      "text/plain": [
       "0.8342012255055733"
      ]
     },
     "execution_count": 88,
     "metadata": {},
     "output_type": "execute_result"
    }
   ],
   "source": [
    "roc_auc_score(y_test, y_pred_proba)"
   ]
  },
  {
   "cell_type": "markdown",
   "metadata": {},
   "source": [
    "***for grid_model***"
   ]
  },
  {
   "cell_type": "code",
   "execution_count": 89,
   "metadata": {},
   "outputs": [
    {
     "data": {
      "image/png": "[encoded data removed]",
      "text/plain": [
       "<Figure size 864x432 with 1 Axes>"
      ]
     },
     "metadata": {},
     "output_type": "display_data"
    }
   ],
   "source": [
    "y_pred_proba = grid_model.predict_proba(X_test)[:,1]\n",
    "fpr, tpr, thresholds = roc_curve(y_test, y_pred_proba)\n",
    "plt.plot([0,1],[0,1],'k--')\n",
    "plt.plot(fpr,tpr, label='ANN')\n",
    "plt.xlabel('False Positive Rate')\n",
    "plt.ylabel('True Positive Rate')\n",
    "plt.title('ROC Curve for Grid Model')\n",
    "plt.show()"
   ]
  },
  {
   "cell_type": "code",
   "execution_count": 90,
   "metadata": {},
   "outputs": [
    {
     "data": {
      "text/plain": [
       "0.8352747628109947"
      ]
     },
     "execution_count": 90,
     "metadata": {},
     "output_type": "execute_result"
    }
   ],
   "source": [
    "roc_auc_score(y_test, y_pred_proba)"
   ]
  },
  {
   "cell_type": "markdown",
   "metadata": {
    "id": "8JYbPquFO3po"
   },
   "source": [
    "## Final Model and Model Deployment"
   ]
  },
  {
   "cell_type": "code",
   "execution_count": 91,
   "metadata": {
    "id": "rxdqqh_CO3po"
   },
   "outputs": [],
   "source": [
    "import pickle\n",
    "pickle.dump(scaler, open(\"scaler_exited\", 'wb'))"
   ]
  },
  {
   "cell_type": "code",
   "execution_count": 92,
   "metadata": {},
   "outputs": [],
   "source": [
    "final_model = Sequential()\n",
    "\n",
    "final_model.add(Dense(32, activation = \"relu\"))  \n",
    "final_model.add(Dense(16, activation = \"relu\"))\n",
    "final_model.add(Dense(1, activation = \"sigmoid\"))  \n",
    "                                             \n",
    "\n",
    "opt = Adam(lr = 0.005)\n",
    "final_model.compile(optimizer = opt, loss = \"binary_crossentropy\", metrics = [\"accuracy\"])"
   ]
  },
  {
   "cell_type": "code",
   "execution_count": 93,
   "metadata": {},
   "outputs": [],
   "source": [
    "early_stop = EarlyStopping(monitor = \"val_loss\", mode = \"auto\", verbose = 1, patience = 20)"
   ]
  },
  {
   "cell_type": "code",
   "execution_count": 95,
   "metadata": {},
   "outputs": [
    {
     "data": {
      "text/plain": [
       "{0: 0.62787777, 1: 2.45499182}"
      ]
     },
     "execution_count": 95,
     "metadata": {},
     "output_type": "execute_result"
    }
   ],
   "source": [
    "class_weight = {0: class_weight[0], 1:class_weight[1]}\n",
    "class_weight"
   ]
  },
  {
   "cell_type": "code",
   "execution_count": 96,
   "metadata": {},
   "outputs": [
    {
     "name": "stdout",
     "output_type": "stream",
     "text": [
      "Epoch 1/1000\n",
      "267/267 [==============================] - 1s 2ms/step - loss: 0.5904 - accuracy: 0.6945 - val_loss: 0.8729 - val_accuracy: 0.4937\n",
      "Epoch 2/1000\n",
      "267/267 [==============================] - 1s 2ms/step - loss: 0.5395 - accuracy: 0.7415 - val_loss: 0.5886 - val_accuracy: 0.7110\n",
      "Epoch 3/1000\n",
      "267/267 [==============================] - 1s 2ms/step - loss: 0.4930 - accuracy: 0.7698 - val_loss: 0.4887 - val_accuracy: 0.7595\n",
      "Epoch 4/1000\n",
      "267/267 [==============================] - 1s 2ms/step - loss: 0.4743 - accuracy: 0.7818 - val_loss: 0.6499 - val_accuracy: 0.6730\n",
      "Epoch 5/1000\n",
      "267/267 [==============================] - 0s 2ms/step - loss: 0.4666 - accuracy: 0.7821 - val_loss: 0.4434 - val_accuracy: 0.7975\n",
      "Epoch 6/1000\n",
      "267/267 [==============================] - 1s 2ms/step - loss: 0.4676 - accuracy: 0.7834 - val_loss: 0.5515 - val_accuracy: 0.7278\n",
      "Epoch 7/1000\n",
      "267/267 [==============================] - 0s 2ms/step - loss: 0.4623 - accuracy: 0.7911 - val_loss: 0.4784 - val_accuracy: 0.7584\n",
      "Epoch 8/1000\n",
      "267/267 [==============================] - 0s 2ms/step - loss: 0.4584 - accuracy: 0.7908 - val_loss: 0.5134 - val_accuracy: 0.7437\n",
      "Epoch 9/1000\n",
      "267/267 [==============================] - 0s 2ms/step - loss: 0.4581 - accuracy: 0.7923 - val_loss: 0.5530 - val_accuracy: 0.7194\n",
      "Epoch 10/1000\n",
      "267/267 [==============================] - 1s 2ms/step - loss: 0.4589 - accuracy: 0.7888 - val_loss: 0.4878 - val_accuracy: 0.7574\n",
      "Epoch 11/1000\n",
      "267/267 [==============================] - 0s 2ms/step - loss: 0.4562 - accuracy: 0.7956 - val_loss: 0.5148 - val_accuracy: 0.7331\n",
      "Epoch 12/1000\n",
      "267/267 [==============================] - 1s 2ms/step - loss: 0.4548 - accuracy: 0.7916 - val_loss: 0.5377 - val_accuracy: 0.7373\n",
      "Epoch 13/1000\n",
      "267/267 [==============================] - 0s 2ms/step - loss: 0.4517 - accuracy: 0.7938 - val_loss: 0.4415 - val_accuracy: 0.7890\n",
      "Epoch 14/1000\n",
      "267/267 [==============================] - 0s 2ms/step - loss: 0.4547 - accuracy: 0.7935 - val_loss: 0.4457 - val_accuracy: 0.7911\n",
      "Epoch 15/1000\n",
      "267/267 [==============================] - 1s 2ms/step - loss: 0.4541 - accuracy: 0.7945 - val_loss: 0.4849 - val_accuracy: 0.7605\n",
      "Epoch 16/1000\n",
      "267/267 [==============================] - 0s 2ms/step - loss: 0.4514 - accuracy: 0.8000 - val_loss: 0.5002 - val_accuracy: 0.7468\n",
      "Epoch 17/1000\n",
      "267/267 [==============================] - 1s 3ms/step - loss: 0.4520 - accuracy: 0.7899 - val_loss: 0.4425 - val_accuracy: 0.7901\n",
      "Epoch 18/1000\n",
      "267/267 [==============================] - 1s 2ms/step - loss: 0.4517 - accuracy: 0.7966 - val_loss: 0.4503 - val_accuracy: 0.7816\n",
      "Epoch 19/1000\n",
      "267/267 [==============================] - 0s 2ms/step - loss: 0.4517 - accuracy: 0.7959 - val_loss: 0.4947 - val_accuracy: 0.7553\n",
      "Epoch 20/1000\n",
      "267/267 [==============================] - 1s 2ms/step - loss: 0.4503 - accuracy: 0.7954 - val_loss: 0.4744 - val_accuracy: 0.7743\n",
      "Epoch 21/1000\n",
      "267/267 [==============================] - 0s 2ms/step - loss: 0.4456 - accuracy: 0.7967 - val_loss: 0.5463 - val_accuracy: 0.7173\n",
      "Epoch 22/1000\n",
      "267/267 [==============================] - 1s 2ms/step - loss: 0.4504 - accuracy: 0.7960 - val_loss: 0.4664 - val_accuracy: 0.7764\n",
      "Epoch 23/1000\n",
      "267/267 [==============================] - 1s 2ms/step - loss: 0.4462 - accuracy: 0.7980 - val_loss: 0.4252 - val_accuracy: 0.8059\n",
      "Epoch 24/1000\n",
      "267/267 [==============================] - 1s 3ms/step - loss: 0.4475 - accuracy: 0.8020 - val_loss: 0.4698 - val_accuracy: 0.7722\n",
      "Epoch 25/1000\n",
      "267/267 [==============================] - 1s 2ms/step - loss: 0.4482 - accuracy: 0.8000 - val_loss: 0.4549 - val_accuracy: 0.7816\n",
      "Epoch 26/1000\n",
      "267/267 [==============================] - 1s 4ms/step - loss: 0.4462 - accuracy: 0.8006 - val_loss: 0.4257 - val_accuracy: 0.7943\n",
      "Epoch 27/1000\n",
      "267/267 [==============================] - 1s 3ms/step - loss: 0.4472 - accuracy: 0.7965 - val_loss: 0.5536 - val_accuracy: 0.7110\n",
      "Epoch 28/1000\n",
      "267/267 [==============================] - 1s 3ms/step - loss: 0.4459 - accuracy: 0.8013 - val_loss: 0.5697 - val_accuracy: 0.7141\n",
      "Epoch 29/1000\n",
      "267/267 [==============================] - 1s 3ms/step - loss: 0.4440 - accuracy: 0.7965 - val_loss: 0.3963 - val_accuracy: 0.8154\n",
      "Epoch 30/1000\n",
      "267/267 [==============================] - 1s 2ms/step - loss: 0.4461 - accuracy: 0.7966 - val_loss: 0.5308 - val_accuracy: 0.7310\n",
      "Epoch 31/1000\n",
      "267/267 [==============================] - 1s 3ms/step - loss: 0.4449 - accuracy: 0.7983 - val_loss: 0.4890 - val_accuracy: 0.7563\n",
      "Epoch 32/1000\n",
      "267/267 [==============================] - 1s 2ms/step - loss: 0.4427 - accuracy: 0.8006 - val_loss: 0.5056 - val_accuracy: 0.7468\n",
      "Epoch 33/1000\n",
      "267/267 [==============================] - 1s 3ms/step - loss: 0.4418 - accuracy: 0.8030 - val_loss: 0.5185 - val_accuracy: 0.7479\n",
      "Epoch 34/1000\n",
      "267/267 [==============================] - 1s 3ms/step - loss: 0.4437 - accuracy: 0.7993 - val_loss: 0.5856 - val_accuracy: 0.7046\n",
      "Epoch 35/1000\n",
      "267/267 [==============================] - 1s 3ms/step - loss: 0.4418 - accuracy: 0.7967 - val_loss: 0.4451 - val_accuracy: 0.7911\n",
      "Epoch 36/1000\n",
      "267/267 [==============================] - 1s 3ms/step - loss: 0.4409 - accuracy: 0.8024 - val_loss: 0.5286 - val_accuracy: 0.7373\n",
      "Epoch 37/1000\n",
      "267/267 [==============================] - 1s 2ms/step - loss: 0.4398 - accuracy: 0.7971 - val_loss: 0.4241 - val_accuracy: 0.8006\n",
      "Epoch 38/1000\n",
      "267/267 [==============================] - 0s 2ms/step - loss: 0.4397 - accuracy: 0.8013 - val_loss: 0.5667 - val_accuracy: 0.7184\n",
      "Epoch 39/1000\n",
      "267/267 [==============================] - 1s 2ms/step - loss: 0.4383 - accuracy: 0.8012 - val_loss: 0.4740 - val_accuracy: 0.7648\n",
      "Epoch 40/1000\n",
      "267/267 [==============================] - 1s 2ms/step - loss: 0.4428 - accuracy: 0.7932 - val_loss: 0.4638 - val_accuracy: 0.7785\n",
      "Epoch 41/1000\n",
      "267/267 [==============================] - 1s 2ms/step - loss: 0.4366 - accuracy: 0.8004 - val_loss: 0.5101 - val_accuracy: 0.7416\n",
      "Epoch 42/1000\n",
      "267/267 [==============================] - 1s 2ms/step - loss: 0.4358 - accuracy: 0.7997 - val_loss: 0.5288 - val_accuracy: 0.7384\n",
      "Epoch 43/1000\n",
      "267/267 [==============================] - 1s 3ms/step - loss: 0.4352 - accuracy: 0.8023 - val_loss: 0.4921 - val_accuracy: 0.7595\n",
      "Epoch 44/1000\n",
      "267/267 [==============================] - 0s 2ms/step - loss: 0.4356 - accuracy: 0.7967 - val_loss: 0.4951 - val_accuracy: 0.7584\n",
      "Epoch 45/1000\n",
      "267/267 [==============================] - 1s 2ms/step - loss: 0.4359 - accuracy: 0.8012 - val_loss: 0.4418 - val_accuracy: 0.7932\n",
      "Epoch 46/1000\n",
      "267/267 [==============================] - 1s 3ms/step - loss: 0.4346 - accuracy: 0.8012 - val_loss: 0.5398 - val_accuracy: 0.7405\n",
      "Epoch 47/1000\n",
      "267/267 [==============================] - 1s 2ms/step - loss: 0.4328 - accuracy: 0.8010 - val_loss: 0.4848 - val_accuracy: 0.7658\n",
      "Epoch 48/1000\n",
      "267/267 [==============================] - 1s 2ms/step - loss: 0.4352 - accuracy: 0.7967 - val_loss: 0.4810 - val_accuracy: 0.7574\n",
      "Epoch 49/1000\n",
      "267/267 [==============================] - 1s 3ms/step - loss: 0.4330 - accuracy: 0.8018 - val_loss: 0.5184 - val_accuracy: 0.7405\n",
      "Epoch 00049: early stopping\n"
     ]
    },
    {
     "data": {
      "text/plain": [
       "<keras.callbacks.History at 0x1d99455f970>"
      ]
     },
     "execution_count": 96,
     "metadata": {},
     "output_type": "execute_result"
    }
   ],
   "source": [
    "final_model.fit(x = X_train, y = y_train, validation_data = (X_test, y_test), batch_size = 32, epochs = 1000, verbose = 1,\n",
    "          callbacks = [early_stop], class_weight = class_weight)"
   ]
  },
  {
   "cell_type": "code",
   "execution_count": 97,
   "metadata": {},
   "outputs": [
    {
     "data": {
      "text/plain": [
       "<AxesSubplot:>"
      ]
     },
     "execution_count": 97,
     "metadata": {},
     "output_type": "execute_result"
    },
    {
     "data": {
      "image/png": "[encoded data removed]",
      "text/plain": [
       "<Figure size 864x432 with 1 Axes>"
      ]
     },
     "metadata": {},
     "output_type": "display_data"
    }
   ],
   "source": [
    "loss_df = pd.DataFrame(final_model.history.history)\n",
    "loss_df.plot()"
   ]
  },
  {
   "cell_type": "code",
   "execution_count": 98,
   "metadata": {},
   "outputs": [
    {
     "name": "stdout",
     "output_type": "stream",
     "text": [
      "[[553 206]\n",
      " [ 40 149]]\n",
      "              precision    recall  f1-score   support\n",
      "\n",
      "           0       0.93      0.73      0.82       759\n",
      "           1       0.42      0.79      0.55       189\n",
      "\n",
      "    accuracy                           0.74       948\n",
      "   macro avg       0.68      0.76      0.68       948\n",
      "weighted avg       0.83      0.74      0.76       948\n",
      "\n"
     ]
    }
   ],
   "source": [
    "y_pred = (final_model.predict(X_test) > 0.5).astype(\"int32\")\n",
    "print(confusion_matrix(y_test, y_pred))\n",
    "print(classification_report(y_test, y_pred))"
   ]
  },
  {
   "cell_type": "code",
   "execution_count": 99,
   "metadata": {},
   "outputs": [],
   "source": [
    "model.save('model_exited.h5')"
   ]
  },
  {
   "cell_type": "markdown",
   "metadata": {},
   "source": [
    "### Loading Model and Scaler"
   ]
  },
  {
   "cell_type": "code",
   "execution_count": 100,
   "metadata": {},
   "outputs": [],
   "source": [
    "from tensorflow.keras.models import load_model"
   ]
  },
  {
   "cell_type": "code",
   "execution_count": 101,
   "metadata": {},
   "outputs": [],
   "source": [
    "model_exited = load_model('model_exited.h5')\n",
    "scaler_exited = pickle.load(open(\"scaler_exited\", \"rb\"))"
   ]
  },
  {
   "cell_type": "markdown",
   "metadata": {
    "id": "Cq10ovAX6daY"
   },
   "source": [
    "### Prediction"
   ]
  },
  {
   "cell_type": "code",
   "execution_count": 104,
   "metadata": {
    "id": "s2X7foN7O3pp"
   },
   "outputs": [
    {
     "data": {
      "text/html": [
       "<div>\n",
       "<style scoped>\n",
       "    .dataframe tbody tr th:only-of-type {\n",
       "        vertical-align: middle;\n",
       "    }\n",
       "\n",
       "    .dataframe tbody tr th {\n",
       "        vertical-align: top;\n",
       "    }\n",
       "\n",
       "    .dataframe thead th {\n",
       "        text-align: right;\n",
       "    }\n",
       "</style>\n",
       "<table border=\"1\" class=\"dataframe\">\n",
       "  <thead>\n",
       "    <tr style=\"text-align: right;\">\n",
       "      <th></th>\n",
       "      <th>CreditScore</th>\n",
       "      <th>Geography</th>\n",
       "      <th>Gender</th>\n",
       "      <th>Age</th>\n",
       "      <th>Tenure</th>\n",
       "      <th>NumOfProducts</th>\n",
       "      <th>HasCrCard</th>\n",
       "      <th>IsActiveMember</th>\n",
       "      <th>EstimatedSalary</th>\n",
       "      <th>Balance_binary</th>\n",
       "    </tr>\n",
       "  </thead>\n",
       "  <tbody>\n",
       "    <tr>\n",
       "      <th>0</th>\n",
       "      <td>619</td>\n",
       "      <td>France</td>\n",
       "      <td>1</td>\n",
       "      <td>42</td>\n",
       "      <td>2</td>\n",
       "      <td>1</td>\n",
       "      <td>1</td>\n",
       "      <td>1</td>\n",
       "      <td>101348.880</td>\n",
       "      <td>0.000</td>\n",
       "    </tr>\n",
       "    <tr>\n",
       "      <th>1</th>\n",
       "      <td>608</td>\n",
       "      <td>Spain</td>\n",
       "      <td>1</td>\n",
       "      <td>41</td>\n",
       "      <td>1</td>\n",
       "      <td>1</td>\n",
       "      <td>0</td>\n",
       "      <td>1</td>\n",
       "      <td>112542.580</td>\n",
       "      <td>1.000</td>\n",
       "    </tr>\n",
       "    <tr>\n",
       "      <th>2</th>\n",
       "      <td>502</td>\n",
       "      <td>France</td>\n",
       "      <td>1</td>\n",
       "      <td>42</td>\n",
       "      <td>8</td>\n",
       "      <td>3</td>\n",
       "      <td>1</td>\n",
       "      <td>0</td>\n",
       "      <td>113931.570</td>\n",
       "      <td>1.000</td>\n",
       "    </tr>\n",
       "    <tr>\n",
       "      <th>3</th>\n",
       "      <td>699</td>\n",
       "      <td>France</td>\n",
       "      <td>1</td>\n",
       "      <td>39</td>\n",
       "      <td>1</td>\n",
       "      <td>2</td>\n",
       "      <td>0</td>\n",
       "      <td>0</td>\n",
       "      <td>93826.630</td>\n",
       "      <td>0.000</td>\n",
       "    </tr>\n",
       "    <tr>\n",
       "      <th>4</th>\n",
       "      <td>850</td>\n",
       "      <td>Spain</td>\n",
       "      <td>1</td>\n",
       "      <td>43</td>\n",
       "      <td>2</td>\n",
       "      <td>1</td>\n",
       "      <td>1</td>\n",
       "      <td>1</td>\n",
       "      <td>79084.100</td>\n",
       "      <td>1.000</td>\n",
       "    </tr>\n",
       "    <tr>\n",
       "      <th>5</th>\n",
       "      <td>645</td>\n",
       "      <td>Spain</td>\n",
       "      <td>0</td>\n",
       "      <td>44</td>\n",
       "      <td>8</td>\n",
       "      <td>2</td>\n",
       "      <td>1</td>\n",
       "      <td>0</td>\n",
       "      <td>149756.710</td>\n",
       "      <td>1.000</td>\n",
       "    </tr>\n",
       "    <tr>\n",
       "      <th>6</th>\n",
       "      <td>822</td>\n",
       "      <td>France</td>\n",
       "      <td>0</td>\n",
       "      <td>50</td>\n",
       "      <td>7</td>\n",
       "      <td>2</td>\n",
       "      <td>1</td>\n",
       "      <td>1</td>\n",
       "      <td>10062.800</td>\n",
       "      <td>0.000</td>\n",
       "    </tr>\n",
       "    <tr>\n",
       "      <th>7</th>\n",
       "      <td>376</td>\n",
       "      <td>Germany</td>\n",
       "      <td>1</td>\n",
       "      <td>29</td>\n",
       "      <td>4</td>\n",
       "      <td>4</td>\n",
       "      <td>1</td>\n",
       "      <td>0</td>\n",
       "      <td>119346.880</td>\n",
       "      <td>1.000</td>\n",
       "    </tr>\n",
       "    <tr>\n",
       "      <th>8</th>\n",
       "      <td>501</td>\n",
       "      <td>France</td>\n",
       "      <td>0</td>\n",
       "      <td>44</td>\n",
       "      <td>4</td>\n",
       "      <td>2</td>\n",
       "      <td>0</td>\n",
       "      <td>1</td>\n",
       "      <td>74940.500</td>\n",
       "      <td>1.000</td>\n",
       "    </tr>\n",
       "    <tr>\n",
       "      <th>9</th>\n",
       "      <td>684</td>\n",
       "      <td>France</td>\n",
       "      <td>0</td>\n",
       "      <td>27</td>\n",
       "      <td>2</td>\n",
       "      <td>1</td>\n",
       "      <td>1</td>\n",
       "      <td>1</td>\n",
       "      <td>71725.730</td>\n",
       "      <td>1.000</td>\n",
       "    </tr>\n",
       "  </tbody>\n",
       "</table>\n",
       "</div>"
      ],
      "text/plain": [
       "   CreditScore Geography  Gender  Age  Tenure  NumOfProducts  HasCrCard  \\\n",
       "0          619    France       1   42       2              1          1   \n",
       "1          608     Spain       1   41       1              1          0   \n",
       "2          502    France       1   42       8              3          1   \n",
       "3          699    France       1   39       1              2          0   \n",
       "4          850     Spain       1   43       2              1          1   \n",
       "5          645     Spain       0   44       8              2          1   \n",
       "6          822    France       0   50       7              2          1   \n",
       "7          376   Germany       1   29       4              4          1   \n",
       "8          501    France       0   44       4              2          0   \n",
       "9          684    France       0   27       2              1          1   \n",
       "\n",
       "   IsActiveMember  EstimatedSalary  Balance_binary  \n",
       "0               1       101348.880           0.000  \n",
       "1               1       112542.580           1.000  \n",
       "2               0       113931.570           1.000  \n",
       "3               0        93826.630           0.000  \n",
       "4               1        79084.100           1.000  \n",
       "5               0       149756.710           1.000  \n",
       "6               1        10062.800           0.000  \n",
       "7               0       119346.880           1.000  \n",
       "8               1        74940.500           1.000  \n",
       "9               1        71725.730           1.000  "
      ]
     },
     "execution_count": 104,
     "metadata": {},
     "output_type": "execute_result"
    }
   ],
   "source": [
    "first_ten_customer = df.drop('Exited', axis = 1).iloc[0:10, :]\n",
    "first_ten_customer"
   ]
  },
  {
   "cell_type": "code",
   "execution_count": 103,
   "metadata": {},
   "outputs": [
    {
     "ename": "ValueError",
     "evalue": "could not convert string to float: 'France'",
     "output_type": "error",
     "traceback": [
      "\u001b[1;31m---------------------------------------------------------------------------\u001b[0m",
      "\u001b[1;31mValueError\u001b[0m                                Traceback (most recent call last)",
      "\u001b[1;32m<ipython-input-103-b472d8fd63ac>\u001b[0m in \u001b[0;36m<module>\u001b[1;34m\u001b[0m\n\u001b[1;32m----> 1\u001b[1;33m \u001b[0mfirst_ten_customer\u001b[0m \u001b[1;33m=\u001b[0m \u001b[0mscaler_exited\u001b[0m\u001b[1;33m.\u001b[0m\u001b[0mtransform\u001b[0m\u001b[1;33m(\u001b[0m\u001b[0mfirst_ten_customer\u001b[0m\u001b[1;33m)\u001b[0m\u001b[1;33m\u001b[0m\u001b[1;33m\u001b[0m\u001b[0m\n\u001b[0m\u001b[0;32m      2\u001b[0m \u001b[0mfirst_ten_customer\u001b[0m\u001b[1;33m\u001b[0m\u001b[1;33m\u001b[0m\u001b[0m\n",
      "\u001b[1;32m~\\Anaconda3\\lib\\site-packages\\sklearn\\preprocessing\\_data.py\u001b[0m in \u001b[0;36mtransform\u001b[1;34m(self, X)\u001b[0m\n\u001b[0;32m    432\u001b[0m         \u001b[0mcheck_is_fitted\u001b[0m\u001b[1;33m(\u001b[0m\u001b[0mself\u001b[0m\u001b[1;33m)\u001b[0m\u001b[1;33m\u001b[0m\u001b[1;33m\u001b[0m\u001b[0m\n\u001b[0;32m    433\u001b[0m \u001b[1;33m\u001b[0m\u001b[0m\n\u001b[1;32m--> 434\u001b[1;33m         X = self._validate_data(X, copy=self.copy, dtype=FLOAT_DTYPES,\n\u001b[0m\u001b[0;32m    435\u001b[0m                                 force_all_finite=\"allow-nan\", reset=False)\n\u001b[0;32m    436\u001b[0m \u001b[1;33m\u001b[0m\u001b[0m\n",
      "\u001b[1;32m~\\Anaconda3\\lib\\site-packages\\sklearn\\base.py\u001b[0m in \u001b[0;36m_validate_data\u001b[1;34m(self, X, y, reset, validate_separately, **check_params)\u001b[0m\n\u001b[0;32m    419\u001b[0m             \u001b[0mout\u001b[0m \u001b[1;33m=\u001b[0m \u001b[0mX\u001b[0m\u001b[1;33m\u001b[0m\u001b[1;33m\u001b[0m\u001b[0m\n\u001b[0;32m    420\u001b[0m         \u001b[1;32melif\u001b[0m \u001b[0misinstance\u001b[0m\u001b[1;33m(\u001b[0m\u001b[0my\u001b[0m\u001b[1;33m,\u001b[0m \u001b[0mstr\u001b[0m\u001b[1;33m)\u001b[0m \u001b[1;32mand\u001b[0m \u001b[0my\u001b[0m \u001b[1;33m==\u001b[0m \u001b[1;34m'no_validation'\u001b[0m\u001b[1;33m:\u001b[0m\u001b[1;33m\u001b[0m\u001b[1;33m\u001b[0m\u001b[0m\n\u001b[1;32m--> 421\u001b[1;33m             \u001b[0mX\u001b[0m \u001b[1;33m=\u001b[0m \u001b[0mcheck_array\u001b[0m\u001b[1;33m(\u001b[0m\u001b[0mX\u001b[0m\u001b[1;33m,\u001b[0m \u001b[1;33m**\u001b[0m\u001b[0mcheck_params\u001b[0m\u001b[1;33m)\u001b[0m\u001b[1;33m\u001b[0m\u001b[1;33m\u001b[0m\u001b[0m\n\u001b[0m\u001b[0;32m    422\u001b[0m             \u001b[0mout\u001b[0m \u001b[1;33m=\u001b[0m \u001b[0mX\u001b[0m\u001b[1;33m\u001b[0m\u001b[1;33m\u001b[0m\u001b[0m\n\u001b[0;32m    423\u001b[0m         \u001b[1;32melse\u001b[0m\u001b[1;33m:\u001b[0m\u001b[1;33m\u001b[0m\u001b[1;33m\u001b[0m\u001b[0m\n",
      "\u001b[1;32m~\\Anaconda3\\lib\\site-packages\\sklearn\\utils\\validation.py\u001b[0m in \u001b[0;36minner_f\u001b[1;34m(*args, **kwargs)\u001b[0m\n\u001b[0;32m     61\u001b[0m             \u001b[0mextra_args\u001b[0m \u001b[1;33m=\u001b[0m \u001b[0mlen\u001b[0m\u001b[1;33m(\u001b[0m\u001b[0margs\u001b[0m\u001b[1;33m)\u001b[0m \u001b[1;33m-\u001b[0m \u001b[0mlen\u001b[0m\u001b[1;33m(\u001b[0m\u001b[0mall_args\u001b[0m\u001b[1;33m)\u001b[0m\u001b[1;33m\u001b[0m\u001b[1;33m\u001b[0m\u001b[0m\n\u001b[0;32m     62\u001b[0m             \u001b[1;32mif\u001b[0m \u001b[0mextra_args\u001b[0m \u001b[1;33m<=\u001b[0m \u001b[1;36m0\u001b[0m\u001b[1;33m:\u001b[0m\u001b[1;33m\u001b[0m\u001b[1;33m\u001b[0m\u001b[0m\n\u001b[1;32m---> 63\u001b[1;33m                 \u001b[1;32mreturn\u001b[0m \u001b[0mf\u001b[0m\u001b[1;33m(\u001b[0m\u001b[1;33m*\u001b[0m\u001b[0margs\u001b[0m\u001b[1;33m,\u001b[0m \u001b[1;33m**\u001b[0m\u001b[0mkwargs\u001b[0m\u001b[1;33m)\u001b[0m\u001b[1;33m\u001b[0m\u001b[1;33m\u001b[0m\u001b[0m\n\u001b[0m\u001b[0;32m     64\u001b[0m \u001b[1;33m\u001b[0m\u001b[0m\n\u001b[0;32m     65\u001b[0m             \u001b[1;31m# extra_args > 0\u001b[0m\u001b[1;33m\u001b[0m\u001b[1;33m\u001b[0m\u001b[1;33m\u001b[0m\u001b[0m\n",
      "\u001b[1;32m~\\Anaconda3\\lib\\site-packages\\sklearn\\utils\\validation.py\u001b[0m in \u001b[0;36mcheck_array\u001b[1;34m(array, accept_sparse, accept_large_sparse, dtype, order, copy, force_all_finite, ensure_2d, allow_nd, ensure_min_samples, ensure_min_features, estimator)\u001b[0m\n\u001b[0;32m    614\u001b[0m                     \u001b[0marray\u001b[0m \u001b[1;33m=\u001b[0m \u001b[0marray\u001b[0m\u001b[1;33m.\u001b[0m\u001b[0mastype\u001b[0m\u001b[1;33m(\u001b[0m\u001b[0mdtype\u001b[0m\u001b[1;33m,\u001b[0m \u001b[0mcasting\u001b[0m\u001b[1;33m=\u001b[0m\u001b[1;34m\"unsafe\"\u001b[0m\u001b[1;33m,\u001b[0m \u001b[0mcopy\u001b[0m\u001b[1;33m=\u001b[0m\u001b[1;32mFalse\u001b[0m\u001b[1;33m)\u001b[0m\u001b[1;33m\u001b[0m\u001b[1;33m\u001b[0m\u001b[0m\n\u001b[0;32m    615\u001b[0m                 \u001b[1;32melse\u001b[0m\u001b[1;33m:\u001b[0m\u001b[1;33m\u001b[0m\u001b[1;33m\u001b[0m\u001b[0m\n\u001b[1;32m--> 616\u001b[1;33m                     \u001b[0marray\u001b[0m \u001b[1;33m=\u001b[0m \u001b[0mnp\u001b[0m\u001b[1;33m.\u001b[0m\u001b[0masarray\u001b[0m\u001b[1;33m(\u001b[0m\u001b[0marray\u001b[0m\u001b[1;33m,\u001b[0m \u001b[0morder\u001b[0m\u001b[1;33m=\u001b[0m\u001b[0morder\u001b[0m\u001b[1;33m,\u001b[0m \u001b[0mdtype\u001b[0m\u001b[1;33m=\u001b[0m\u001b[0mdtype\u001b[0m\u001b[1;33m)\u001b[0m\u001b[1;33m\u001b[0m\u001b[1;33m\u001b[0m\u001b[0m\n\u001b[0m\u001b[0;32m    617\u001b[0m             \u001b[1;32mexcept\u001b[0m \u001b[0mComplexWarning\u001b[0m \u001b[1;32mas\u001b[0m \u001b[0mcomplex_warning\u001b[0m\u001b[1;33m:\u001b[0m\u001b[1;33m\u001b[0m\u001b[1;33m\u001b[0m\u001b[0m\n\u001b[0;32m    618\u001b[0m                 raise ValueError(\"Complex data not supported\\n\"\n",
      "\u001b[1;32m~\\Anaconda3\\lib\\site-packages\\numpy\\core\\_asarray.py\u001b[0m in \u001b[0;36masarray\u001b[1;34m(a, dtype, order)\u001b[0m\n\u001b[0;32m     81\u001b[0m \u001b[1;33m\u001b[0m\u001b[0m\n\u001b[0;32m     82\u001b[0m     \"\"\"\n\u001b[1;32m---> 83\u001b[1;33m     \u001b[1;32mreturn\u001b[0m \u001b[0marray\u001b[0m\u001b[1;33m(\u001b[0m\u001b[0ma\u001b[0m\u001b[1;33m,\u001b[0m \u001b[0mdtype\u001b[0m\u001b[1;33m,\u001b[0m \u001b[0mcopy\u001b[0m\u001b[1;33m=\u001b[0m\u001b[1;32mFalse\u001b[0m\u001b[1;33m,\u001b[0m \u001b[0morder\u001b[0m\u001b[1;33m=\u001b[0m\u001b[0morder\u001b[0m\u001b[1;33m)\u001b[0m\u001b[1;33m\u001b[0m\u001b[1;33m\u001b[0m\u001b[0m\n\u001b[0m\u001b[0;32m     84\u001b[0m \u001b[1;33m\u001b[0m\u001b[0m\n\u001b[0;32m     85\u001b[0m \u001b[1;33m\u001b[0m\u001b[0m\n",
      "\u001b[1;32m~\\Anaconda3\\lib\\site-packages\\pandas\\core\\generic.py\u001b[0m in \u001b[0;36m__array__\u001b[1;34m(self, dtype)\u001b[0m\n\u001b[0;32m   1897\u001b[0m \u001b[1;33m\u001b[0m\u001b[0m\n\u001b[0;32m   1898\u001b[0m     \u001b[1;32mdef\u001b[0m \u001b[0m__array__\u001b[0m\u001b[1;33m(\u001b[0m\u001b[0mself\u001b[0m\u001b[1;33m,\u001b[0m \u001b[0mdtype\u001b[0m\u001b[1;33m=\u001b[0m\u001b[1;32mNone\u001b[0m\u001b[1;33m)\u001b[0m \u001b[1;33m->\u001b[0m \u001b[0mnp\u001b[0m\u001b[1;33m.\u001b[0m\u001b[0mndarray\u001b[0m\u001b[1;33m:\u001b[0m\u001b[1;33m\u001b[0m\u001b[1;33m\u001b[0m\u001b[0m\n\u001b[1;32m-> 1899\u001b[1;33m         \u001b[1;32mreturn\u001b[0m \u001b[0mnp\u001b[0m\u001b[1;33m.\u001b[0m\u001b[0masarray\u001b[0m\u001b[1;33m(\u001b[0m\u001b[0mself\u001b[0m\u001b[1;33m.\u001b[0m\u001b[0m_values\u001b[0m\u001b[1;33m,\u001b[0m \u001b[0mdtype\u001b[0m\u001b[1;33m=\u001b[0m\u001b[0mdtype\u001b[0m\u001b[1;33m)\u001b[0m\u001b[1;33m\u001b[0m\u001b[1;33m\u001b[0m\u001b[0m\n\u001b[0m\u001b[0;32m   1900\u001b[0m \u001b[1;33m\u001b[0m\u001b[0m\n\u001b[0;32m   1901\u001b[0m     def __array_wrap__(\n",
      "\u001b[1;32m~\\Anaconda3\\lib\\site-packages\\numpy\\core\\_asarray.py\u001b[0m in \u001b[0;36masarray\u001b[1;34m(a, dtype, order)\u001b[0m\n\u001b[0;32m     81\u001b[0m \u001b[1;33m\u001b[0m\u001b[0m\n\u001b[0;32m     82\u001b[0m     \"\"\"\n\u001b[1;32m---> 83\u001b[1;33m     \u001b[1;32mreturn\u001b[0m \u001b[0marray\u001b[0m\u001b[1;33m(\u001b[0m\u001b[0ma\u001b[0m\u001b[1;33m,\u001b[0m \u001b[0mdtype\u001b[0m\u001b[1;33m,\u001b[0m \u001b[0mcopy\u001b[0m\u001b[1;33m=\u001b[0m\u001b[1;32mFalse\u001b[0m\u001b[1;33m,\u001b[0m \u001b[0morder\u001b[0m\u001b[1;33m=\u001b[0m\u001b[0morder\u001b[0m\u001b[1;33m)\u001b[0m\u001b[1;33m\u001b[0m\u001b[1;33m\u001b[0m\u001b[0m\n\u001b[0m\u001b[0;32m     84\u001b[0m \u001b[1;33m\u001b[0m\u001b[0m\n\u001b[0;32m     85\u001b[0m \u001b[1;33m\u001b[0m\u001b[0m\n",
      "\u001b[1;31mValueError\u001b[0m: could not convert string to float: 'France'"
     ]
    }
   ],
   "source": [
    "first_ten_customer = scaler_exited.transform(first_ten_customer)\n",
    "first_ten_customer"
   ]
  },
  {
   "cell_type": "code",
   "execution_count": null,
   "metadata": {},
   "outputs": [
    {
     "data": {
      "text/plain": [
       "array([[0],\n",
       "       [0],\n",
       "       [1],\n",
       "       [0],\n",
       "       [0],\n",
       "       [1],\n",
       "       [0],\n",
       "       [1],\n",
       "       [0],\n",
       "       [0]])"
      ]
     },
     "metadata": {},
     "output_type": "display_data"
    }
   ],
   "source": [
    "(model_exited.predict(first_ten_customer) > 0.5).astype(\"int32\")"
   ]
  },
  {
   "cell_type": "code",
   "execution_count": null,
   "metadata": {},
   "outputs": [
    {
     "data": {
      "text/plain": [
       "0    1\n",
       "1    0\n",
       "2    1\n",
       "3    0\n",
       "4    0\n",
       "5    1\n",
       "6    0\n",
       "7    1\n",
       "8    0\n",
       "9    0\n",
       "Name: Exited, dtype: int64"
      ]
     },
     "metadata": {},
     "output_type": "display_data"
    }
   ],
   "source": [
    "df[\"Exited\"].iloc[0:10]"
   ]
  },
  {
   "cell_type": "code",
   "execution_count": null,
   "metadata": {
    "id": "rxdqqh_CO3po"
   },
   "outputs": [],
   "source": []
  },
  {
   "cell_type": "code",
   "execution_count": null,
   "metadata": {},
   "outputs": [],
   "source": []
  },
  {
   "cell_type": "code",
   "execution_count": null,
   "metadata": {},
   "outputs": [],
   "source": []
  },
  {
   "cell_type": "code",
   "execution_count": null,
   "metadata": {},
   "outputs": [],
   "source": []
  },
  {
   "cell_type": "markdown",
   "metadata": {
    "id": "Cq10ovAX6daY"
   },
   "source": [
    "### Prediction"
   ]
  },
  {
   "cell_type": "code",
   "execution_count": null,
   "metadata": {
    "id": "s2X7foN7O3pp"
   },
   "outputs": [],
   "source": []
  }
 ],
 "metadata": {
  "colab": {
   "collapsed_sections": [],
   "name": "DL-Assignmet-1 (Classification-Churn_Modelling)-Student.ipynb",
   "provenance": []
  },
  "interpreter": {
   "hash": "415b5ba8911e7abe9cf434d79eb0f06806ebbf49ffefa47ec530cac9b96a44f1"
  },
  "kernelspec": {
   "display_name": "Python 3.8.8 64-bit ('base': conda)",
   "name": "python3"
  },
  "language_info": {
   "codemirror_mode": {
    "name": "ipython",
    "version": 3
   },
   "file_extension": ".py",
   "mimetype": "text/x-python",
   "name": "python",
   "nbconvert_exporter": "python",
   "pygments_lexer": "ipython3",
   "version": "3.8.8"
  }
 },
 "nbformat": 4,
 "nbformat_minor": 1
}
